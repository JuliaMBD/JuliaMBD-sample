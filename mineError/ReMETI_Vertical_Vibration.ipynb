{
 "cells": [
  {
   "cell_type": "code",
   "execution_count": null,
   "metadata": {},
   "outputs": [],
   "source": [
    "using Plots\n",
    "using DifferentialEquations\n",
    "using JuliaMBD\n",
    "using JuliaMBD.Diagram\n",
    "using LookupTable"
   ]
  },
  {
   "cell_type": "code",
   "execution_count": null,
   "metadata": {},
   "outputs": [],
   "source": [
    "using Plots\n",
    "using DifferentialEquations\n",
    "using JuliaMBD\n",
    "using JuliaMBD.Diagram\n",
    "using LookupTable"
   ]
  },
  {
   "cell_type": "code",
   "execution_count": null,
   "metadata": {},
   "outputs": [],
   "source": [
    "include(\"ReMETI_Vertical_Vibration.jl\")"
   ]
  },
  {
   "cell_type": "code",
   "execution_count": null,
   "metadata": {},
   "outputs": [],
   "source": [
    "include(\"Reunittests.jl\")"
   ]
  },
  {
   "cell_type": "code",
   "execution_count": null,
   "metadata": {},
   "outputs": [],
   "source": [
    "@model sim begin\n",
    "    @block begin\n",
    "        b = Vehicle()\n",
    "        m1 = From(tag=:v_VL_mps)\n",
    "        m2 = From(tag=:omg_VL_pitch_rate_radps)\n",
    "        m3 = From(tag=:v_MUS_R2SUS_R_mps)\n",
    "        m4 = From(tag=:L_SUS_R_stroke_m)\n",
    "        m5 = From(tag=:v_MUS_F2SUS_F_mps)\n",
    "        m6 = From(tag=:L_SUS_F_stroke_m)\n",
    "        m7 = From(tag=:a_HM_F_neck_rad)\n",
    "        m8 = From(tag=:a_HM_HD_R_neck_rad)\n",
    "    end\n",
    "    @scope begin\n",
    "        m1.out => m1\n",
    "        m2.out => m2\n",
    "        m5.out => m3\n",
    "        m8.out => m4\n",
    "    end\n",
    "end\n",
    "@time m = @compile_derivative sim()\n",
    "@time result = simulate(m, tspan=[0,10])\n",
    "@time plot(result, layout=(2,2))\n"
   ]
  },
  {
   "cell_type": "code",
   "execution_count": null,
   "metadata": {},
   "outputs": [],
   "source": [
    "@model sim begin\n",
    "    @block begin\n",
    "        b = Vehicle()\n",
    "        m1 = From(tag=:v_VL_mps)\n",
    "        m2 = From(tag=:omg_VL_pitch_rate_radps)\n",
    "        m3 = From(tag=:v_MUS_R2SUS_R_mps)\n",
    "        m4 = From(tag=:L_SUS_R_stroke_m)\n",
    "        m5 = From(tag=:v_MUS_F2SUS_F_mps)\n",
    "        m6 = From(tag=:L_SUS_F_stroke_m)\n",
    "        m7 = From(tag=:a_HM_F_neck_rad)\n",
    "        m8 = From(tag=:a_HM_HD_R_neck_rad)\n",
    "    end\n",
    "    @scope begin\n",
    "        m1.out => m1\n",
    "        m2.out => m2\n",
    "        m5.out => m3\n",
    "        m8.out => m4\n",
    "    end\n",
    "end\n",
    "@time m = @compile_derivative sim()\n",
    "@time result = simulate(m, tspan=[0,4])\n",
    "@time plot(result, layout=(2,2))\n"
   ]
  },
  {
   "cell_type": "code",
   "execution_count": null,
   "metadata": {},
   "outputs": [],
   "source": []
  }
 ],
 "metadata": {
  "kernelspec": {
   "display_name": "Julia 1.9.3",
   "language": "julia",
   "name": "julia-1.9"
  },
  "language_info": {
   "file_extension": ".jl",
   "mimetype": "application/julia",
   "name": "julia",
   "version": "1.9.3"
  }
 },
 "nbformat": 4,
 "nbformat_minor": 2
}
