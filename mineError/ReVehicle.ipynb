{
 "cells": [
  {
   "cell_type": "code",
   "execution_count": 2,
   "metadata": {},
   "outputs": [],
   "source": [
    "using Plots\n",
    "using DifferentialEquations\n",
    "using JuliaMBD\n",
    "using JuliaMBD.Diagram\n",
    "\n",
    "using DifferentialEquations\n",
    "using Plots\n",
    "using CSV\n",
    "using DataFrames\n",
    "using LookupTable\n",
    "using .JuliaMBD\n",
    "using .JuliaMBD.Diagram"
   ]
  },
  {
   "cell_type": "code",
   "execution_count": null,
   "metadata": {},
   "outputs": [],
   "source": []
  },
  {
   "cell_type": "code",
   "execution_count": null,
   "metadata": {},
   "outputs": [],
   "source": []
  },
  {
   "cell_type": "code",
   "execution_count": 2,
   "metadata": {},
   "outputs": [
    {
     "data": {
      "text/plain": [
       "ENG_MNT_F_PNT (generic function with 1 method)"
      ]
     },
     "metadata": {},
     "output_type": "display_data"
    }
   ],
   "source": [
    "@model ENG_MNT_F_PNT begin\n",
    "    @parameter begin\n",
    "        d_Fr_ENG_mount = 1825.3\n",
    "        k_Fr_ENG_mount = 1.3598e+05\n",
    "        z_k_Fr_ENG_mount_ini = 0.00036769\n",
    "    end\n",
    "    @xmlmodel(\"ReMETI_Vertical_Vibration.drawio\", \"ENG_MNT_F_PNT\")\n",
    "end"
   ]
  },
  {
   "cell_type": "code",
   "execution_count": 3,
   "metadata": {},
   "outputs": [
    {
     "data": {
      "text/plain": [
       "ENG_MNT_R_PNT (generic function with 1 method)"
      ]
     },
     "metadata": {},
     "output_type": "display_data"
    }
   ],
   "source": [
    "@model ENG_MNT_R_PNT begin\n",
    "    @parameter begin\n",
    "        d_Rr_ENG_mount = 5215\n",
    "        k_Rr_ENG_mount = 6.7992e+5\n",
    "        z_k_Rr_ENG_mount_ini = 0\n",
    "    end\n",
    "    @xmlmodel(\"ReMETI_Vertical_Vibration.drawio\", \"ENG_MNT_R_PNT\")\n",
    "end"
   ]
  },
  {
   "cell_type": "code",
   "execution_count": 4,
   "metadata": {},
   "outputs": [
    {
     "data": {
      "text/plain": [
       "pitch_rate (generic function with 1 method)"
      ]
     },
     "metadata": {},
     "output_type": "display_data"
    }
   ],
   "source": [
    "@model pitch_rate begin\n",
    "    @parameter begin\n",
    "        I_ENG2Fr_mount = 0\n",
    "        I_ENG2Rr_mount = -0.4\n",
    "        i_center_ENG = 100\n",
    "    end\n",
    "    @xmlmodel(\"ReMETI_Vertical_Vibration.drawio\", \"pitch_rate\") #シート名も指定して\n",
    "end"
   ]
  },
  {
   "cell_type": "code",
   "execution_count": 5,
   "metadata": {},
   "outputs": [
    {
     "data": {
      "text/plain": [
       "v_z_carbody (generic function with 1 method)"
      ]
     },
     "metadata": {},
     "output_type": "display_data"
    }
   ],
   "source": [
    "@model v_z_carbody begin\n",
    "    @parameter begin\n",
    "        M_ENG = 50\n",
    "        g = 9.8\n",
    "    end\n",
    "    @xmlmodel(\"ReMETI_Vertical_Vibration.drawio\", \"v_z_carbody\")\n",
    "end"
   ]
  },
  {
   "cell_type": "code",
   "execution_count": 6,
   "metadata": {},
   "outputs": [
    {
     "data": {
      "text/plain": [
       "z_velocity (generic function with 1 method)"
      ]
     },
     "metadata": {},
     "output_type": "display_data"
    }
   ],
   "source": [
    "@model z_velocity begin\n",
    "    @parameter begin\n",
    "        I_ENG2Fr_ENG_mount = 0\n",
    "        I_ENG2Rr_ENG_mount = -0.4\n",
    "    end\n",
    "    @xmlmodel(\"ReMETI_Vertical_Vibration.drawio\", \"z_velocity\")\n",
    "end"
   ]
  },
  {
   "cell_type": "code",
   "execution_count": 7,
   "metadata": {},
   "outputs": [
    {
     "data": {
      "text/plain": [
       "ENG_PNT (generic function with 1 method)"
      ]
     },
     "metadata": {},
     "output_type": "display_data"
    }
   ],
   "source": [
    "@model ENG_PNT begin\n",
    "    @xmlmodel(\"ReMETI_Vertical_Vibration.drawio\", \"ENG_PNT\")\n",
    "end"
   ]
  },
  {
   "cell_type": "code",
   "execution_count": 8,
   "metadata": {},
   "outputs": [
    {
     "data": {
      "text/plain": [
       "MUS_F_PNT (generic function with 1 method)"
      ]
     },
     "metadata": {},
     "output_type": "display_data"
    }
   ],
   "source": [
    "@model MUS_F_PNT begin\n",
    "    @parameter begin\n",
    "        g = 9.8\n",
    "        M_Fr_wheel = 40\n",
    "    end\n",
    "    @xmlmodel(\"ReMETI_Vertical_Vibration.drawio\", \"MUS_F_PNT\") \n",
    "end"
   ]
  },
  {
   "cell_type": "code",
   "execution_count": 9,
   "metadata": {},
   "outputs": [
    {
     "data": {
      "text/plain": [
       "MUS_R_PNT (generic function with 1 method)"
      ]
     },
     "metadata": {},
     "output_type": "display_data"
    }
   ],
   "source": [
    "@model MUS_R_PNT begin\n",
    "    @parameter begin\n",
    "        g = 9.8\n",
    "        M_Rr_wheel = 40\n",
    "    end\n",
    "    @xmlmodel(\"ReMETI_Vertical_Vibration.drawio\", \"MUS_R_PNT\") \n",
    "end"
   ]
  },
  {
   "cell_type": "code",
   "execution_count": 48,
   "metadata": {},
   "outputs": [
    {
     "data": {
      "text/plain": [
       "HM_BD_F_PNT (generic function with 1 method)"
      ]
     },
     "metadata": {},
     "output_type": "display_data"
    }
   ],
   "source": [
    "@model HM_BD_F_PNT begin\n",
    "    @parameter begin\n",
    "        M_Fr_body = 44.01\n",
    "        g = 9.8\n",
    "    end\n",
    "    @xmlmodel(\"ReMETI_Vertical_Vibration.drawio\", \"HM_BD_F_PNT\")\n",
    "end"
   ]
  },
  {
   "cell_type": "code",
   "execution_count": 14,
   "metadata": {},
   "outputs": [
    {
     "data": {
      "text/plain": [
       "HM_HD_F_PNT (generic function with 1 method)"
      ]
     },
     "metadata": {},
     "output_type": "display_data"
    }
   ],
   "source": [
    "@model HM_HD_F_PNT begin\n",
    "    @parameter begin\n",
    "        M_Fr_head = 27.6\n",
    "        r_Fr_head = 0.21857\n",
    "        theta_Fr_head = 1.3251\n",
    "        k_Fr_head = 1210\n",
    "        d_Fr_head = 8.17\n",
    "        I_Fr_head = 1.8\n",
    "        x_k_Fr_head_ini = -0.011885\n",
    "        g = 9.8\n",
    "    end\n",
    "    @xmlmodel(\"ReMETI_Vertical_Vibration.drawio\", \"2HM_HD_F_PNT\")\n",
    "end"
   ]
  },
  {
   "cell_type": "code",
   "execution_count": 49,
   "metadata": {},
   "outputs": [
    {
     "data": {
      "text/plain": [
       "HM_VS_F_PNT (generic function with 1 method)"
      ]
     },
     "metadata": {},
     "output_type": "display_data"
    }
   ],
   "source": [
    "@model HM_VS_F_PNT begin\n",
    "    @parameter begin\n",
    "        kz_Fr_body_organs = 82200\n",
    "        dz_Fr_body_organs = 195\n",
    "        M_Fr_body_organs = 12.8\n",
    "        g = 9.8\n",
    "        z_kz_Fr_body_organs_ini = 0.001526\n",
    "    end\n",
    "    @xmlmodel(\"ReMETI_Vertical_Vibration.drawio\", \"HM_VS_F_PNT\")\n",
    "end"
   ]
  },
  {
   "cell_type": "code",
   "execution_count": 16,
   "metadata": {},
   "outputs": [
    {
     "ename": "LoadError",
     "evalue": "LoadError: KeyError: key \"HM_F_PNT\" not found\nin expression starting at /workspaces/JuliaMBD-sample/mineError/ReVehicle.ipynb:2",
     "output_type": "error",
     "traceback": [
      "LoadError: KeyError: key \"HM_F_PNT\" not found\n",
      "in expression starting at /workspaces/JuliaMBD-sample/mineError/ReVehicle.ipynb:2\n",
      "\n",
      "Stacktrace:\n",
      "  [1] getindex\n",
      "    @ ./dict.jl:484 [inlined]\n",
      "  [2] xmlmodel(m::Symbol, xmlfile::String, name::String)\n",
      "    @ JuliaMBD.Diagram ~/.julia/packages/JuliaMBD/ZFbOr/src/diagrams/_xml2model.jl:148\n",
      "  [3] var\"@xmlmodel\"(__source__::LineNumberNode, __module__::Module, m::Any, xmlfile::Any, name::Any)\n",
      "    @ JuliaMBD.Diagram ~/.julia/packages/JuliaMBD/ZFbOr/src/diagrams/_xml2model.jl:195\n",
      "  [4] eval\n",
      "    @ ./boot.jl:370 [inlined]\n",
      "  [5] include_string(mapexpr::typeof(REPL.softscope), mod::Module, code::String, filename::String)\n",
      "    @ Base ./loading.jl:1903\n",
      "  [6] #invokelatest#2\n",
      "    @ ./essentials.jl:819 [inlined]\n",
      "  [7] invokelatest\n",
      "    @ ./essentials.jl:816 [inlined]\n",
      "  [8] (::VSCodeServer.var\"#202#203\"{VSCodeServer.NotebookRunCellArguments, String})()\n",
      "    @ VSCodeServer ~/.vscode-server/extensions/julialang.language-julia-1.60.2/scripts/packages/VSCodeServer/src/serve_notebook.jl:19\n",
      "  [9] withpath(f::VSCodeServer.var\"#202#203\"{VSCodeServer.NotebookRunCellArguments, String}, path::String)\n",
      "    @ VSCodeServer ~/.vscode-server/extensions/julialang.language-julia-1.60.2/scripts/packages/VSCodeServer/src/repl.jl:274\n",
      " [10] notebook_runcell_request(conn::VSCodeServer.JSONRPC.JSONRPCEndpoint{Base.PipeEndpoint, Base.PipeEndpoint}, params::VSCodeServer.NotebookRunCellArguments)\n",
      "    @ VSCodeServer ~/.vscode-server/extensions/julialang.language-julia-1.60.2/scripts/packages/VSCodeServer/src/serve_notebook.jl:13\n",
      " [11] dispatch_msg(x::VSCodeServer.JSONRPC.JSONRPCEndpoint{Base.PipeEndpoint, Base.PipeEndpoint}, dispatcher::VSCodeServer.JSONRPC.MsgDispatcher, msg::Dict{String, Any})\n",
      "    @ VSCodeServer.JSONRPC ~/.vscode-server/extensions/julialang.language-julia-1.60.2/scripts/packages/JSONRPC/src/typed.jl:67\n",
      " [12] serve_notebook(pipename::String, outputchannel_logger::Base.CoreLogging.SimpleLogger; crashreporting_pipename::String)\n",
      "    @ VSCodeServer ~/.vscode-server/extensions/julialang.language-julia-1.60.2/scripts/packages/VSCodeServer/src/serve_notebook.jl:139\n",
      " [13] top-level scope\n",
      "    @ ~/.vscode-server/extensions/julialang.language-julia-1.60.2/scripts/notebook/notebook.jl:32"
     ]
    }
   ],
   "source": [
    "@model HM_F_PNT begin\n",
    "    @xmlmodel(\"ReMETI_Vertical_Vibration.drawio\", \"HM_F_PNT\")\n",
    "end"
   ]
  },
  {
   "cell_type": "code",
   "execution_count": 50,
   "metadata": {},
   "outputs": [
    {
     "data": {
      "text/plain": [
       "HM_BD_R_PNT (generic function with 1 method)"
      ]
     },
     "metadata": {},
     "output_type": "display_data"
    }
   ],
   "source": [
    "@model HM_BD_R_PNT begin\n",
    "    @parameter begin\n",
    "        M_Rr_body = 44.01\n",
    "        g = 9.8\n",
    "    end\n",
    "    @xmlmodel(\"ReMETI_Vertical_Vibration.drawio\", \"HM_BD_R_PNT\")\n",
    "end"
   ]
  },
  {
   "cell_type": "code",
   "execution_count": 17,
   "metadata": {},
   "outputs": [
    {
     "data": {
      "text/plain": [
       "HM_HD_R_PNT (generic function with 1 method)"
      ]
     },
     "metadata": {},
     "output_type": "display_data"
    }
   ],
   "source": [
    "@model HM_HD_R_PNT begin\n",
    "    @parameter begin\n",
    "        M_Rr_head = 27.6\n",
    "        r_Rr_head = 0.21857\n",
    "        theta_Rr_head = 1.3251\n",
    "        k_Rr_head = 1210\n",
    "        d_Rr_head = 8.17\n",
    "        I_Rr_head = 1.8\n",
    "        x_k_Rr_head_ini = -0.011885\n",
    "        g = 9.8\n",
    "    end\n",
    "    @xmlmodel(\"ReMETI_Vertical_Vibration.drawio\", \"2HM_HD_R_PNT\")\n",
    "end"
   ]
  },
  {
   "cell_type": "code",
   "execution_count": 51,
   "metadata": {},
   "outputs": [
    {
     "data": {
      "text/plain": [
       "HM_VS_R_PNT (generic function with 1 method)"
      ]
     },
     "metadata": {},
     "output_type": "display_data"
    }
   ],
   "source": [
    "@model HM_VS_R_PNT begin\n",
    "    @parameter begin\n",
    "        kz_Rr_body_organs = 82200\n",
    "        dz_Rr_body_organs = 195\n",
    "        M_Rr_body_organs = 12.8\n",
    "        g = 9.8\n",
    "        z_kz_Rr_body_organs_ini = 0.001526\n",
    "    end\n",
    "    @xmlmodel(\"ReMETI_Vertical_Vibration.drawio\", \"HM_VS_R_PNT\")\n",
    "end"
   ]
  },
  {
   "cell_type": "code",
   "execution_count": 17,
   "metadata": {},
   "outputs": [
    {
     "data": {
      "text/plain": [
       "HM_R_PNT (generic function with 1 method)"
      ]
     },
     "metadata": {},
     "output_type": "display_data"
    }
   ],
   "source": [
    "@model HM_R_PNT begin\n",
    "    @xmlmodel(\"ReMETI_Vertical_Vibration.drawio\", \"HM_R_PNT\")\n",
    "end"
   ]
  },
  {
   "cell_type": "code",
   "execution_count": null,
   "metadata": {},
   "outputs": [],
   "source": []
  },
  {
   "cell_type": "code",
   "execution_count": 19,
   "metadata": {},
   "outputs": [
    {
     "data": {
      "text/plain": [
       "3414"
      ]
     },
     "metadata": {},
     "output_type": "display_data"
    }
   ],
   "source": [
    "@buildxml \"2pre\"  HM_HD_F_PNT HM_HD_R_PNT"
   ]
  },
  {
   "cell_type": "code",
   "execution_count": null,
   "metadata": {},
   "outputs": [],
   "source": []
  },
  {
   "cell_type": "code",
   "execution_count": 18,
   "metadata": {},
   "outputs": [
    {
     "data": {
      "text/plain": [
       "MUS_F_PNT (generic function with 1 method)"
      ]
     },
     "metadata": {},
     "output_type": "display_data"
    }
   ],
   "source": [
    "@model MUS_F_PNT begin\n",
    "    @parameter begin\n",
    "        g = 9.8\n",
    "        M_Fr_wheel = 40\n",
    "    end\n",
    "    @xmlmodel(\"ReMETI_Vertical_Vibration.drawio\", \"MUS_F_PNT\") \n",
    "end"
   ]
  },
  {
   "cell_type": "code",
   "execution_count": 19,
   "metadata": {},
   "outputs": [
    {
     "data": {
      "text/plain": [
       "MUS_R_PNT (generic function with 1 method)"
      ]
     },
     "metadata": {},
     "output_type": "display_data"
    }
   ],
   "source": [
    "@model MUS_R_PNT begin\n",
    "    @parameter begin\n",
    "        g = 9.8\n",
    "        M_Rr_wheel = 40\n",
    "    end\n",
    "    @xmlmodel(\"ReMETI_Vertical_Vibration.drawio\", \"MUS_R_PNT\") \n",
    "end"
   ]
  },
  {
   "cell_type": "code",
   "execution_count": 39,
   "metadata": {},
   "outputs": [
    {
     "data": {
      "text/plain": [
       "RD_PNT (generic function with 1 method)"
      ]
     },
     "metadata": {},
     "output_type": "display_data"
    }
   ],
   "source": [
    "@model RD_PNT begin\n",
    "    df = CSV.read(\"road_surface.csv\", DataFrame)\n",
    "    @parameter begin\n",
    "        kmph2mps = 0.27778\n",
    "        I_wheelbase=2.635\n",
    "        vel_car_kmph=60\n",
    "    end\n",
    "    @xmlmodel(\"ReMETI_Vertical_Vibration.drawio\", \"2RD_PNT\")\n",
    "end"
   ]
  },
  {
   "cell_type": "code",
   "execution_count": 21,
   "metadata": {},
   "outputs": [
    {
     "data": {
      "text/plain": [
       "ST_F_PNT (generic function with 1 method)"
      ]
     },
     "metadata": {},
     "output_type": "display_data"
    }
   ],
   "source": [
    "@model ST_F_PNT begin\n",
    "    @parameter begin\n",
    "        d_Fr_chair=6634\n",
    "        k_Fr_chair=1000000\n",
    "        z_k_Fr_chair_ini=0.00082722\n",
    "    end\n",
    "    @xmlmodel(\"ReMETI_Vertical_Vibration.drawio\", \"ST_F_PNT\") \n",
    "end"
   ]
  },
  {
   "cell_type": "code",
   "execution_count": 22,
   "metadata": {},
   "outputs": [
    {
     "data": {
      "text/plain": [
       "ST_R_PNT (generic function with 1 method)"
      ]
     },
     "metadata": {},
     "output_type": "display_data"
    }
   ],
   "source": [
    "@model ST_R_PNT begin\n",
    "    @parameter begin\n",
    "        d_Rr_chair = 9381.9\n",
    "        k_Rr_chair = 2000000\n",
    "        z_k_Rr_chair_ini = 0.00041361\n",
    "    end\n",
    "    @xmlmodel(\"ReMETI_Vertical_Vibration.drawio\", \"ST_R_PNT\") \n",
    "end"
   ]
  },
  {
   "cell_type": "code",
   "execution_count": 34,
   "metadata": {},
   "outputs": [
    {
     "data": {
      "text/plain": [
       "front_damper (generic function with 1 method)"
      ]
     },
     "metadata": {},
     "output_type": "display_data"
    }
   ],
   "source": [
    "@model front_damper begin\n",
    "    df = CSV.read(\"damper_rate.csv\", DataFrame)\n",
    "    @parameter begin\n",
    "        d_Fr_sus_fric_gain=10000\n",
    "        d_Fr_sus_fric=40\n",
    "    end\n",
    "    @xmlmodel(\"ReMETI_Vertical_Vibration.drawio\", \"2front_damper\")\n",
    "end"
   ]
  },
  {
   "cell_type": "code",
   "execution_count": 35,
   "metadata": {},
   "outputs": [
    {
     "data": {
      "text/plain": [
       "SUS_F_PNT (generic function with 1 method)"
      ]
     },
     "metadata": {},
     "output_type": "display_data"
    }
   ],
   "source": [
    "@model SUS_F_PNT begin\n",
    "    @parameter begin\n",
    "        L_ratio_Fr_sus = 1.2048\n",
    "        z_k_Fr_sus_ini = 0.10755\n",
    "        k_Fr_sus = 30690\n",
    "    end\n",
    "    @xmlmodel(\"ReMETI_Vertical_Vibration.drawio\", \"SUS_F_PNT\")\n",
    "end"
   ]
  },
  {
   "cell_type": "code",
   "execution_count": 36,
   "metadata": {},
   "outputs": [
    {
     "data": {
      "text/plain": [
       "rear_damper (generic function with 1 method)"
      ]
     },
     "metadata": {},
     "output_type": "display_data"
    }
   ],
   "source": [
    "@model rear_damper begin\n",
    "    df = CSV.read(\"damper_rate.csv\", DataFrame)\n",
    "    @parameter begin\n",
    "        d_Rr_sus_fric_gain=10000\n",
    "        d_Rr_sus_fric=30\n",
    "    end\n",
    "    @xmlmodel(\"ReMETI_Vertical_Vibration.drawio\", \"2rear_damper\")\n",
    "end"
   ]
  },
  {
   "cell_type": "code",
   "execution_count": 37,
   "metadata": {},
   "outputs": [
    {
     "data": {
      "text/plain": [
       "SUS_R_PNT (generic function with 1 method)"
      ]
     },
     "metadata": {},
     "output_type": "display_data"
    }
   ],
   "source": [
    "@model SUS_R_PNT begin\n",
    "    @parameter begin\n",
    "        L_ratio_Rr_sus = 1.2048\n",
    "        z_k_Rr_sus_ini = 0.076651\n",
    "        k_Rr_sus = 30690\n",
    "    end\n",
    "    @xmlmodel(\"ReMETI_Vertical_Vibration.drawio\", \"SUS_R_PNT\")\n",
    "end"
   ]
  },
  {
   "cell_type": "code",
   "execution_count": 27,
   "metadata": {},
   "outputs": [
    {
     "data": {
      "text/plain": [
       "TR_F_PNT (generic function with 1 method)"
      ]
     },
     "metadata": {},
     "output_type": "display_data"
    }
   ],
   "source": [
    "@model TR_F_PNT begin\n",
    "    @parameter begin\n",
    "        d_Fr_wheel=3162.3\n",
    "        k_Fr_wheel=200000\n",
    "        z_k_Fr_wheel_ini=0.022334\n",
    "    end\n",
    "    @xmlmodel(\"ReMETI_Vertical_Vibration.drawio\", \"TR_F_PNT\") \n",
    "end\n"
   ]
  },
  {
   "cell_type": "code",
   "execution_count": 28,
   "metadata": {},
   "outputs": [
    {
     "data": {
      "text/plain": [
       "TR_R_PNT (generic function with 1 method)"
      ]
     },
     "metadata": {},
     "output_type": "display_data"
    }
   ],
   "source": [
    "@model TR_R_PNT begin\n",
    "    @parameter begin\n",
    "        d_Rr_wheel=3162.3\n",
    "        k_Rr_wheel=200000\n",
    "        z_k_Rr_wheel_ini=0.016621\n",
    "    end\n",
    "    @xmlmodel(\"ReMETI_Vertical_Vibration.drawio\", \"TR_R_PNT\") \n",
    "end"
   ]
  },
  {
   "cell_type": "code",
   "execution_count": 29,
   "metadata": {},
   "outputs": [
    {
     "data": {
      "text/plain": [
       "pitch_rate_vl (generic function with 1 method)"
      ]
     },
     "metadata": {},
     "output_type": "display_data"
    }
   ],
   "source": [
    "@model pitch_rate_vl begin\n",
    "    @parameter begin\n",
    "        I_center2Fr_ENG_mount = 1.1374\n",
    "        I_center2Rr_ENG_mount = 0.90993\n",
    "        I_center2Fr_Chair = 0.34122\n",
    "        I_center2Rr_Chair = -1.0237\n",
    "        I_center2Rr_sus = -1.4976\n",
    "        I_center2Fr_sus = 1.1374\n",
    "        i_center_gravity = 400\n",
    "    end\n",
    "    @xmlmodel(\"ReMETI_Vertical_Vibration.drawio\", \"pitch_rate_vl\") \n",
    "end"
   ]
  },
  {
   "cell_type": "code",
   "execution_count": 30,
   "metadata": {},
   "outputs": [
    {
     "data": {
      "text/plain": [
       "v_z_carbody_vl (generic function with 1 method)"
      ]
     },
     "metadata": {},
     "output_type": "display_data"
    }
   ],
   "source": [
    "@model v_z_carbody_vl begin\n",
    "    @parameter begin\n",
    "        g=9.8\n",
    "        M_car_body=1171.2\n",
    "    end\n",
    "    @xmlmodel(\"ReMETI_Vertical_Vibration.drawio\", \"v_z_carbody_vl\") \n",
    "end"
   ]
  },
  {
   "cell_type": "code",
   "execution_count": 31,
   "metadata": {},
   "outputs": [
    {
     "data": {
      "text/plain": [
       "z_velocity_vl (generic function with 1 method)"
      ]
     },
     "metadata": {},
     "output_type": "display_data"
    }
   ],
   "source": [
    "@model z_velocity_vl begin\n",
    "    @parameter begin\n",
    "        I_center2Fr_ENG_mount = 1.1374\n",
    "        I_center2Rr_ENG_mount = 0.90993\n",
    "        I_center2Fr_Chair = 0.34122\n",
    "        I_center2Rr_Chair = -1.0237\n",
    "        I_center2Rr_sus = -1.4976\n",
    "        I_center2Fr_sus = 1.1374\n",
    "    end\n",
    "    @xmlmodel(\"ReMETI_Vertical_Vibration.drawio\", \"z_velocity_vl\") \n",
    "end"
   ]
  },
  {
   "cell_type": "code",
   "execution_count": 32,
   "metadata": {},
   "outputs": [
    {
     "data": {
      "text/plain": [
       "VL_PNT (generic function with 1 method)"
      ]
     },
     "metadata": {},
     "output_type": "display_data"
    }
   ],
   "source": [
    "@model VL_PNT begin\n",
    "    @xmlmodel(\"ReMETI_Vertical_Vibration.drawio\", \"VL_PNT\")\n",
    "end"
   ]
  },
  {
   "cell_type": "code",
   "execution_count": 33,
   "metadata": {},
   "outputs": [
    {
     "data": {
      "text/plain": [
       "37972"
      ]
     },
     "metadata": {},
     "output_type": "display_data"
    }
   ],
   "source": [
    "@buildxml \"newVehicle\" ENG_MNT_F_PNT ENG_MNT_R_PNT ENG_PNT HM_F_PNT HM_R_PNT MUS_F_PNT MUS_R_PNT RD_PNT ST_F_PNT ST_R_PNT SUS_F_PNT SUS_R_PNT TR_F_PNT TR_R_PNT VL_PNT"
   ]
  },
  {
   "cell_type": "code",
   "execution_count": 38,
   "metadata": {},
   "outputs": [
    {
     "data": {
      "text/plain": [
       "4983"
      ]
     },
     "metadata": {},
     "output_type": "display_data"
    }
   ],
   "source": [
    "@buildxml \"2newVehicle\"  SUS_F_PNT SUS_R_PNT"
   ]
  },
  {
   "cell_type": "code",
   "execution_count": 40,
   "metadata": {},
   "outputs": [
    {
     "data": {
      "text/plain": [
       "1624"
      ]
     },
     "metadata": {},
     "output_type": "display_data"
    }
   ],
   "source": [
    "@buildxml \"3newVehicle\"  RD_PNT"
   ]
  },
  {
   "cell_type": "code",
   "execution_count": null,
   "metadata": {},
   "outputs": [],
   "source": []
  },
  {
   "cell_type": "code",
   "execution_count": null,
   "metadata": {},
   "outputs": [],
   "source": []
  },
  {
   "cell_type": "code",
   "execution_count": 3,
   "metadata": {},
   "outputs": [
    {
     "data": {
      "text/plain": [
       "front_damper2 (generic function with 1 method)"
      ]
     },
     "metadata": {},
     "output_type": "display_data"
    }
   ],
   "source": [
    "@model front_damper2 begin\n",
    "    df = CSV.read(\"damper_rate.csv\", DataFrame)\n",
    "    @parameter begin\n",
    "        d_Fr_sus_fric_gain=10000\n",
    "        d_Fr_sus_fric=40\n",
    "    end\n",
    "    @xmlmodel(\"ReMETI_Vertical_Vibration.drawio\", \"2front_damper\")\n",
    "end"
   ]
  },
  {
   "cell_type": "code",
   "execution_count": 4,
   "metadata": {},
   "outputs": [
    {
     "data": {
      "text/plain": [
       "rear_damper2 (generic function with 1 method)"
      ]
     },
     "metadata": {},
     "output_type": "display_data"
    }
   ],
   "source": [
    "@model rear_damper2 begin\n",
    "    df = CSV.read(\"damper_rate.csv\", DataFrame)\n",
    "    @parameter begin\n",
    "        d_Rr_sus_fric_gain=10000\n",
    "        d_Rr_sus_fric=30\n",
    "    end\n",
    "    @xmlmodel(\"ReMETI_Vertical_Vibration.drawio\", \"2rear_damper\")\n",
    "end"
   ]
  },
  {
   "cell_type": "code",
   "execution_count": null,
   "metadata": {},
   "outputs": [],
   "source": [
    "@buildxml \"21vehi\" 2front_damper 2rear_damper"
   ]
  },
  {
   "cell_type": "code",
   "execution_count": 5,
   "metadata": {},
   "outputs": [
    {
     "data": {
      "text/plain": [
       "HM_HD_F_PNT2 (generic function with 1 method)"
      ]
     },
     "metadata": {},
     "output_type": "display_data"
    }
   ],
   "source": [
    "@model HM_HD_F_PNT2 begin\n",
    "    @parameter begin\n",
    "        M_Fr_head = 27.6\n",
    "        r_Fr_head = 0.21857\n",
    "        theta_Fr_head = 1.3251\n",
    "        k_Fr_head = 1210\n",
    "        d_Fr_head = 8.17\n",
    "        I_Fr_head = 1.8\n",
    "        x_k_Fr_head_ini = -0.011885\n",
    "        g = 9.8\n",
    "    end\n",
    "    @xmlmodel(\"ReMETI_Vertical_Vibration.drawio\", \"2HM_HD_F_PNT\")\n",
    "end"
   ]
  },
  {
   "cell_type": "code",
   "execution_count": 6,
   "metadata": {},
   "outputs": [
    {
     "data": {
      "text/plain": [
       "HM_HD_R_PNT2 (generic function with 1 method)"
      ]
     },
     "metadata": {},
     "output_type": "display_data"
    }
   ],
   "source": [
    "@model HM_HD_R_PNT2 begin\n",
    "    @parameter begin\n",
    "        M_Rr_head = 27.6\n",
    "        r_Rr_head = 0.21857\n",
    "        theta_Rr_head = 1.3251\n",
    "        k_Rr_head = 1210\n",
    "        d_Rr_head = 8.17\n",
    "        I_Rr_head = 1.8\n",
    "        x_k_Rr_head_ini = -0.011885\n",
    "        g = 9.8\n",
    "    end\n",
    "    @xmlmodel(\"ReMETI_Vertical_Vibration.drawio\", \"2HM_HD_R_PNT\")\n",
    "end"
   ]
  },
  {
   "cell_type": "code",
   "execution_count": 7,
   "metadata": {},
   "outputs": [
    {
     "data": {
      "text/plain": [
       "6596"
      ]
     },
     "metadata": {},
     "output_type": "display_data"
    }
   ],
   "source": [
    "@buildxml \"2-11vehi\" front_damper2 rear_damper2 HM_HD_F_PNT2 HM_HD_R_PNT2"
   ]
  },
  {
   "cell_type": "code",
   "execution_count": null,
   "metadata": {},
   "outputs": [],
   "source": []
  },
  {
   "cell_type": "code",
   "execution_count": null,
   "metadata": {},
   "outputs": [],
   "source": [
    "####"
   ]
  },
  {
   "cell_type": "code",
   "execution_count": 52,
   "metadata": {},
   "outputs": [
    {
     "data": {
      "text/plain": [
       "SUS_F_PNT2 (generic function with 1 method)"
      ]
     },
     "metadata": {},
     "output_type": "display_data"
    }
   ],
   "source": [
    "@model SUS_F_PNT2 begin\n",
    "    @parameter begin\n",
    "        L_ratio_Fr_sus = 1.2048\n",
    "        z_k_Fr_sus_ini = 0.10755\n",
    "        k_Fr_sus = 30690\n",
    "    end\n",
    "    @xmlmodel(\"ReMETI_Vertical_Vibration.drawio\", \"2SUS_F_PNT\")\n",
    "end"
   ]
  },
  {
   "cell_type": "code",
   "execution_count": 53,
   "metadata": {},
   "outputs": [
    {
     "data": {
      "text/plain": [
       "SUS_R_PNT2 (generic function with 1 method)"
      ]
     },
     "metadata": {},
     "output_type": "display_data"
    }
   ],
   "source": [
    "@model SUS_R_PNT2 begin\n",
    "    @parameter begin\n",
    "        L_ratio_Rr_sus = 1.2048\n",
    "        z_k_Rr_sus_ini = 0.076651\n",
    "        k_Rr_sus = 30690\n",
    "    end\n",
    "    @xmlmodel(\"ReMETI_Vertical_Vibration.drawio\", \"2SUS_R_PNT\")\n",
    "end"
   ]
  },
  {
   "cell_type": "code",
   "execution_count": 54,
   "metadata": {},
   "outputs": [
    {
     "data": {
      "text/plain": [
       "HM_F_PNT2 (generic function with 1 method)"
      ]
     },
     "metadata": {},
     "output_type": "display_data"
    }
   ],
   "source": [
    "@model HM_F_PNT2 begin\n",
    "    @xmlmodel(\"ReMETI_Vertical_Vibration.drawio\", \"2HM_F_PNT\")\n",
    "end"
   ]
  },
  {
   "cell_type": "code",
   "execution_count": 55,
   "metadata": {},
   "outputs": [
    {
     "data": {
      "text/plain": [
       "HM_R_PNT2 (generic function with 1 method)"
      ]
     },
     "metadata": {},
     "output_type": "display_data"
    }
   ],
   "source": [
    "@model HM_R_PNT2 begin\n",
    "    @xmlmodel(\"ReMETI_Vertical_Vibration.drawio\", \"2HM_R_PNT\")\n",
    "end"
   ]
  },
  {
   "cell_type": "code",
   "execution_count": 56,
   "metadata": {},
   "outputs": [
    {
     "data": {
      "text/plain": [
       "8045"
      ]
     },
     "metadata": {},
     "output_type": "display_data"
    }
   ],
   "source": [
    "@buildxml \"2-32vehi\" SUS_F_PNT2 SUS_R_PNT2 HM_F_PNT2 HM_R_PNT2"
   ]
  },
  {
   "cell_type": "code",
   "execution_count": null,
   "metadata": {},
   "outputs": [],
   "source": []
  },
  {
   "cell_type": "code",
   "execution_count": null,
   "metadata": {},
   "outputs": [],
   "source": []
  }
 ],
 "metadata": {
  "kernelspec": {
   "display_name": "Julia 1.9.3",
   "language": "julia",
   "name": "julia-1.9"
  },
  "language_info": {
   "file_extension": ".jl",
   "mimetype": "application/julia",
   "name": "julia",
   "version": "1.9.3"
  }
 },
 "nbformat": 4,
 "nbformat_minor": 2
}
