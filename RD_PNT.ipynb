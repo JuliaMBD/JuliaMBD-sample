{
 "cells": [
  {
   "cell_type": "code",
   "execution_count": null,
   "metadata": {},
   "outputs": [],
   "source": [
    "#NO"
   ]
  },
  {
   "cell_type": "code",
   "execution_count": 1,
   "metadata": {},
   "outputs": [],
   "source": [
    "using Plots\n",
    "using DifferentialEquations\n",
    "using JuliaMBD\n",
    "using JuliaMBD.Diagram"
   ]
  },
  {
   "cell_type": "code",
   "execution_count": 6,
   "metadata": {},
   "outputs": [
    {
     "name": "stderr",
     "output_type": "stream",
     "text": [
      "┌ Warning: The port Dict{Any, Any}(\"label\" => \"<p style=\\\"line-height: 100%;\\\"><br></p>\", \"name\" => \"in3\", \"id\" => \"HRPyVORBh9rS9BVmI5Sx-7\", \"parent\" => \"HRPyVORBh9rS9BVmI5Sx-3\", \"type\" => \"inport\") has not been used.\n",
      "└ @ JuliaMBD.Diagram /root/.julia/packages/JuliaMBD/JTVej/src/diagrams/_xml2model.jl:76\n",
      "┌ Warning: The port Dict{Any, Any}(\"label\" => \"<p style=\\\"line-height: 100%;\\\"><br></p>\", \"name\" => \"in4\", \"id\" => \"HRPyVORBh9rS9BVmI5Sx-8\", \"parent\" => \"HRPyVORBh9rS9BVmI5Sx-3\", \"type\" => \"inport\") has not been used.\n",
      "└ @ JuliaMBD.Diagram /root/.julia/packages/JuliaMBD/JTVej/src/diagrams/_xml2model.jl:76\n"
     ]
    },
    {
     "data": {
      "text/plain": [
       "rd_pnt (generic function with 1 method)"
      ]
     },
     "metadata": {},
     "output_type": "display_data"
    }
   ],
   "source": [
    "@model rd_pnt begin\n",
    "    @parameter begin\n",
    "        kmph2mps = 0.27778\n",
    "        I_wheelbase=41\n",
    "        vel_car_kmph=42\n",
    "        end_of_road_surface=43\n",
    "    end\n",
    "    @xmlmodel(\"METI_Vertical_Vibration.drawio\", \"RD_PNT\")\n",
    "end"
   ]
  },
  {
   "cell_type": "code",
   "execution_count": 7,
   "metadata": {},
   "outputs": [
    {
     "ename": "UndefVarError",
     "evalue": "UndefVarError: `df` not defined",
     "output_type": "error",
     "traceback": [
      "UndefVarError: `df` not defined\n",
      "\n",
      "Stacktrace:\n",
      " [1] macro expansion\n",
      "   @ ~/.julia/packages/JuliaMBD/JTVej/src/_macro.jl:95 [inlined]\n",
      " [2] macro expansion\n",
      "   @ ./none:11 [inlined]\n",
      " [3] rd_pnt(; kmph2mps::Float64, I_wheelbase::Int64, vel_car_kmph::Int64, end_of_road_surface::Int64)\n",
      "   @ Main /workspaces/JuliaMBD-sample/RD_PNT.ipynb:159\n",
      " [4] rd_pnt\n",
      "   @ ./none:0 [inlined]\n",
      " [5] macro expansion\n",
      "   @ ~/.julia/packages/JuliaMBD/JTVej/src/_macro.jl:95 [inlined]\n",
      " [6] TestRd_pnt()\n",
      "   @ Main /workspaces/JuliaMBD-sample/RD_PNT.ipynb:3\n",
      " [7] top-level scope\n",
      "   @ ~/.julia/packages/JuliaMBD/JTVej/src/_ode.jl:31"
     ]
    }
   ],
   "source": [
    "#OneDのy,breaksのdfを変更\n",
    "@model TestRd_pnt begin\n",
    "    @block begin\n",
    "        m = rd_pnt()\n",
    "    end\n",
    "    @scope begin\n",
    "        m.v_RD2TR_R_mps => out1\n",
    "        m.v_RD2TR_F_mps => out2\n",
    "        m.outstop => out3\n",
    "    end\n",
    "end\n",
    "\n",
    "m = @compile_derivative TestRd_pnt() #１つでも微分ブロックがあるなら@compile_derivativeを書き足す,この場合はmatlabの結果と異なる場合がある\n",
    "res = simulate(m, tspan=[0, 10])\n",
    "plot(res)"
   ]
  },
  {
   "cell_type": "code",
   "execution_count": null,
   "metadata": {},
   "outputs": [],
   "source": []
  },
  {
   "cell_type": "code",
   "execution_count": null,
   "metadata": {},
   "outputs": [],
   "source": []
  },
  {
   "cell_type": "code",
   "execution_count": 3,
   "metadata": {},
   "outputs": [
    {
     "ename": "UndefVarError",
     "evalue": "UndefVarError: `value` not defined",
     "output_type": "error",
     "traceback": [
      "UndefVarError: `value` not defined\n",
      "\n",
      "Stacktrace:\n",
      " [1] macro expansion\n",
      "   @ ~/.julia/packages/JuliaMBD/3ZWy5/src/_macro.jl:95 [inlined]\n",
      " [2] macro expansion\n",
      "   @ ./none:2 [inlined]\n",
      " [3] rd_pnt(; kmph2mps::Float64, I_wheelbase::Int64, vel_car_kmph::Int64, end_of_road_surface::Int64)\n",
      "   @ Main /workspaces/JuliaMBD-sample/RD_PNT.ipynb:159\n",
      " [4] rd_pnt\n",
      "   @ ./none:0 [inlined]\n",
      " [5] macro expansion\n",
      "   @ ~/.julia/packages/JuliaMBD/3ZWy5/src/_macro.jl:95 [inlined]\n",
      " [6] TestRd_pnt()\n",
      "   @ Main /workspaces/JuliaMBD-sample/RD_PNT.ipynb:3\n",
      " [7] top-level scope\n",
      "   @ ~/.julia/packages/JuliaMBD/3ZWy5/src/_ode.jl:31"
     ]
    }
   ],
   "source": [
    "@model TestRd_pnt begin\n",
    "    @block begin\n",
    "        m = rd_pnt()\n",
    "        s1 = Step(steptime=5, finalvalue=100)\n",
    "    end\n",
    "    @connect begin\n",
    "        s1.out => m.in1\n",
    "    end\n",
    "    @scope begin\n",
    "        m.in1 => in\n",
    "        m.out1 => out\n",
    "    end\n",
    "end\n",
    "\n",
    "m = @compile_derivative TestRd_pnt() #１つでも微分ブロックがあるなら@compile_derivativeを書き足す,この場合はmatlabの結果と異なる場合がある\n",
    "res = simulate(m, tspan=[0, 10])\n",
    "plot(res)"
   ]
  },
  {
   "cell_type": "code",
   "execution_count": null,
   "metadata": {},
   "outputs": [],
   "source": []
  }
 ],
 "metadata": {
  "kernelspec": {
   "display_name": "Julia 1.9.3",
   "language": "julia",
   "name": "julia-1.9"
  },
  "language_info": {
   "file_extension": ".jl",
   "mimetype": "application/julia",
   "name": "julia",
   "version": "1.9.3"
  }
 },
 "nbformat": 4,
 "nbformat_minor": 2
}
