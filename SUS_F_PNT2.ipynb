{
 "cells": [
  {
   "cell_type": "code",
   "execution_count": null,
   "metadata": {},
   "outputs": [],
   "source": [
    "#no"
   ]
  },
  {
   "cell_type": "code",
   "execution_count": 1,
   "metadata": {},
   "outputs": [
    {
     "ename": "UndefVarError",
     "evalue": "UndefVarError: `JuliaMBD` not defined",
     "output_type": "error",
     "traceback": [
      "UndefVarError: `JuliaMBD` not defined\n",
      "\n",
      "Stacktrace:\n",
      "  [1] eval\n",
      "    @ ./boot.jl:370 [inlined]\n",
      "  [2] include_string(mapexpr::typeof(REPL.softscope), mod::Module, code::String, filename::String)\n",
      "    @ Base ./loading.jl:1903\n",
      "  [3] #invokelatest#2\n",
      "    @ ./essentials.jl:819 [inlined]\n",
      "  [4] invokelatest\n",
      "    @ ./essentials.jl:816 [inlined]\n",
      "  [5] (::VSCodeServer.var\"#202#203\"{VSCodeServer.NotebookRunCellArguments, String})()\n",
      "    @ VSCodeServer ~/.vscode-server/extensions/julialang.language-julia-1.57.2/scripts/packages/VSCodeServer/src/serve_notebook.jl:19\n",
      "  [6] withpath(f::VSCodeServer.var\"#202#203\"{VSCodeServer.NotebookRunCellArguments, String}, path::String)\n",
      "    @ VSCodeServer ~/.vscode-server/extensions/julialang.language-julia-1.57.2/scripts/packages/VSCodeServer/src/repl.jl:274\n",
      "  [7] notebook_runcell_request(conn::VSCodeServer.JSONRPC.JSONRPCEndpoint{Base.PipeEndpoint, Base.PipeEndpoint}, params::VSCodeServer.NotebookRunCellArguments)\n",
      "    @ VSCodeServer ~/.vscode-server/extensions/julialang.language-julia-1.57.2/scripts/packages/VSCodeServer/src/serve_notebook.jl:13\n",
      "  [8] dispatch_msg(x::VSCodeServer.JSONRPC.JSONRPCEndpoint{Base.PipeEndpoint, Base.PipeEndpoint}, dispatcher::VSCodeServer.JSONRPC.MsgDispatcher, msg::Dict{String, Any})\n",
      "    @ VSCodeServer.JSONRPC ~/.vscode-server/extensions/julialang.language-julia-1.57.2/scripts/packages/JSONRPC/src/typed.jl:67\n",
      "  [9] serve_notebook(pipename::String, outputchannel_logger::Base.CoreLogging.SimpleLogger; crashreporting_pipename::String)\n",
      "    @ VSCodeServer ~/.vscode-server/extensions/julialang.language-julia-1.57.2/scripts/packages/VSCodeServer/src/serve_notebook.jl:139\n",
      " [10] top-level scope\n",
      "    @ ~/.vscode-server/extensions/julialang.language-julia-1.57.2/scripts/notebook/notebook.jl:32"
     ]
    }
   ],
   "source": [
    "using DifferentialEquations\n",
    "using Plots\n",
    "using CSV\n",
    "using DataFrames\n",
    "using LookupTable\n",
    "using .JuliaMBD\n",
    "using .JuliaMBD.Diagram"
   ]
  },
  {
   "cell_type": "code",
   "execution_count": 22,
   "metadata": {},
   "outputs": [],
   "source": [
    "###oneD"
   ]
  },
  {
   "cell_type": "code",
   "execution_count": 29,
   "metadata": {},
   "outputs": [
    {
     "name": "stderr",
     "output_type": "stream",
     "text": [
      "┌ Warning: The port Dict{Any, Any}(\"label\" => \"<p style=\\\"line-height: 100%;\\\"><br></p>\", \"name\" => \"in3\", \"id\" => \"eelRdIJvC0ySnhr88J11-29\", \"parent\" => \"eelRdIJvC0ySnhr88J11-25\", \"type\" => \"inport\") has not been used.\n",
      "└ @ JuliaMBD.Diagram /root/.julia/packages/JuliaMBD/JTVej/src/diagrams/_xml2model.jl:76\n",
      "┌ Warning: The port Dict{Any, Any}(\"label\" => \"<p style=\\\"line-height: 100%;\\\"><br></p>\", \"name\" => \"in4\", \"id\" => \"eelRdIJvC0ySnhr88J11-30\", \"parent\" => \"eelRdIJvC0ySnhr88J11-25\", \"type\" => \"inport\") has not been used.\n",
      "└ @ JuliaMBD.Diagram /root/.julia/packages/JuliaMBD/JTVej/src/diagrams/_xml2model.jl:76\n"
     ]
    },
    {
     "data": {
      "text/plain": [
       "front_damper (generic function with 1 method)"
      ]
     },
     "metadata": {},
     "output_type": "display_data"
    }
   ],
   "source": [
    "@model front_damper begin\n",
    "    df = CSV.read(\"damper_rate.csv\", DataFrame)\n",
    "    @parameter begin\n",
    "        d_Fr_sus_fric_gain=10000\n",
    "        d_Fr_sus_fric=40\n",
    "    end\n",
    "    @xmlmodel(\"METI_Vertical_Vibration.drawio\", \"2front_damper\")\n",
    "end"
   ]
  },
  {
   "cell_type": "code",
   "execution_count": 30,
   "metadata": {},
   "outputs": [
    {
     "ename": "KeyError",
     "evalue": "KeyError: key :in not found",
     "output_type": "error",
     "traceback": [
      "KeyError: key :in not found\n",
      "\n",
      "Stacktrace:\n",
      " [1] getindex(h::Dict{Symbol, Any}, key::Symbol)\n",
      "   @ Base ./dict.jl:484\n",
      " [2] getport\n",
      "   @ ~/.julia/packages/JuliaMBD/JTVej/src/_simpleblock.jl:60 [inlined]\n",
      " [3] macro expansion\n",
      "   @ ./none:8 [inlined]\n",
      " [4] front_damper(; d_Fr_sus_fric_gain::Int64, d_Fr_sus_fric::Int64)\n",
      "   @ Main /workspaces/JuliaMBD-sample/SUS_F_PNT.ipynb:160\n",
      " [5] front_damper\n",
      "   @ ./none:0 [inlined]\n",
      " [6] macro expansion\n",
      "   @ ~/.julia/packages/JuliaMBD/JTVej/src/_macro.jl:95 [inlined]\n",
      " [7] TestFront_damper()\n",
      "   @ Main /workspaces/JuliaMBD-sample/SUS_F_PNT.ipynb:3\n",
      " [8] top-level scope\n",
      "   @ ~/.julia/packages/JuliaMBD/JTVej/src/_ode.jl:9"
     ]
    }
   ],
   "source": [
    "@model TestFront_damper begin\n",
    "    @block begin\n",
    "        m = front_damper()\n",
    "        s1 = Step(steptime=5, finalvalue=100)\n",
    "    end\n",
    "    @connect begin\n",
    "        s1.out => m.v_SUS_F_damper_mps\n",
    "    end\n",
    "    @scope begin\n",
    "        m.v_SUS_F_damper_mps => v_SUS_F_damper_mps\n",
    "        m.F_SUS_F_damper_N => F_SUS_F_damper_N\n",
    "    end\n",
    "end\n",
    "\n",
    "m = @compile TestFront_damper() \n",
    "res = simulate(m, tspan=[0, 10])\n",
    "plot(res)"
   ]
  },
  {
   "cell_type": "code",
   "execution_count": null,
   "metadata": {},
   "outputs": [],
   "source": []
  },
  {
   "cell_type": "code",
   "execution_count": null,
   "metadata": {},
   "outputs": [],
   "source": [
    "@model SUS_F_PNT begin\n",
    "    @parameter begin\n",
    "        L_ratio_Fr_sus = 1.2048\n",
    "        z_k_Fr_sus_ini = 0.10755\n",
    "        k_Fr_sus = 30690\n",
    "    end\n",
    "    @xmlmodel(\"METI_Vertical_Vibration.drawio\", \"SUS_F_PNT\")\n",
    "end"
   ]
  },
  {
   "cell_type": "code",
   "execution_count": null,
   "metadata": {},
   "outputs": [],
   "source": [
    "@model TestSUS_F_PNT begin\n",
    "    @block begin\n",
    "        m = SUS_F_PNT()\n",
    "        s1 = Step(steptime=5, finalvalue=100)\n",
    "    end\n",
    "    @connect begin\n",
    "        s1.out => m.v_VL2SUS_F_mps\n",
    "        s1.out => m.v_MUS_F2SUS_F_mps\n",
    "    end\n",
    "    @scope begin\n",
    "        m.v_VL2SUS_F_mps => v_VL2SUS_F_mps\n",
    "        m.v_MUS_F2SUS_F_mps => v_MUS_F2SUS_F_mps\n",
    "        m.F_SUS_F2VL_N => F_SUS_F2VL_N\n",
    "        m.F_SUS_F2MUS_F_N => F_SUS_F2MUS_F_N\n",
    "    end\n",
    "end\n",
    "\n",
    "m = @compile TestSUS_F_PNT() \n",
    "res = simulate(m, tspan=[0, 10])\n",
    "plot(res)"
   ]
  },
  {
   "cell_type": "code",
   "execution_count": null,
   "metadata": {},
   "outputs": [],
   "source": []
  },
  {
   "cell_type": "code",
   "execution_count": null,
   "metadata": {},
   "outputs": [],
   "source": []
  },
  {
   "cell_type": "code",
   "execution_count": null,
   "metadata": {},
   "outputs": [],
   "source": []
  },
  {
   "cell_type": "code",
   "execution_count": null,
   "metadata": {},
   "outputs": [],
   "source": []
  },
  {
   "cell_type": "code",
   "execution_count": null,
   "metadata": {},
   "outputs": [],
   "source": []
  },
  {
   "cell_type": "code",
   "execution_count": null,
   "metadata": {},
   "outputs": [],
   "source": []
  },
  {
   "cell_type": "code",
   "execution_count": null,
   "metadata": {},
   "outputs": [],
   "source": []
  },
  {
   "cell_type": "code",
   "execution_count": null,
   "metadata": {},
   "outputs": [],
   "source": []
  }
 ],
 "metadata": {
  "kernelspec": {
   "display_name": "Julia 1.9.3",
   "language": "julia",
   "name": "julia-1.9"
  },
  "language_info": {
   "file_extension": ".jl",
   "mimetype": "application/julia",
   "name": "julia",
   "version": "1.9.3"
  }
 },
 "nbformat": 4,
 "nbformat_minor": 2
}
