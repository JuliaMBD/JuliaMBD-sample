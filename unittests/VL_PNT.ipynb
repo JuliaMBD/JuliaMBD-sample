{
 "cells": [
  {
   "cell_type": "code",
   "execution_count": 3,
   "metadata": {},
   "outputs": [],
   "source": [
    "using Plots\n",
    "using DifferentialEquations\n",
    "using JuliaMBD\n",
    "using JuliaMBD.Diagram"
   ]
  },
  {
   "cell_type": "code",
   "execution_count": null,
   "metadata": {},
   "outputs": [],
   "source": []
  },
  {
   "cell_type": "code",
   "execution_count": 4,
   "metadata": {},
   "outputs": [
    {
     "name": "stderr",
     "output_type": "stream",
     "text": [
      "┌ Warning: The edge without connection: 64sOCc5eDk-WyOlMy-At-18\n",
      "└ @ JuliaMBD.Diagram /root/.julia/packages/JuliaMBD/3ZWy5/src/diagrams/_xml2model.jl:69\n",
      "┌ Warning: The port Dict{Any, Any}(\"label\" => \"<p style=\\\"line-height: 100%;\\\"><br></p>\", \"name\" => \"out\", \"id\" => \"2U-L9Cm2FjKEAc_njuAr-52\", \"parent\" => \"2U-L9Cm2FjKEAc_njuAr-51\", \"type\" => \"outport\") has not been used.\n",
      "└ @ JuliaMBD.Diagram /root/.julia/packages/JuliaMBD/3ZWy5/src/diagrams/_xml2model.jl:76\n",
      "┌ Warning: The port Dict{Any, Any}(\"label\" => \"<p style=\\\"line-height: 100%;\\\"><br></p>\", \"name\" => \"in1\", \"id\" => \"64sOCc5eDk-WyOlMy-At-16\", \"parent\" => \"64sOCc5eDk-WyOlMy-At-14\", \"type\" => \"inport\") has not been used.\n",
      "└ @ JuliaMBD.Diagram /root/.julia/packages/JuliaMBD/3ZWy5/src/diagrams/_xml2model.jl:76\n"
     ]
    },
    {
     "data": {
      "text/plain": [
       "pitch_rate_vl (generic function with 1 method)"
      ]
     },
     "metadata": {},
     "output_type": "display_data"
    }
   ],
   "source": [
    "@model pitch_rate_vl begin\n",
    "    @parameter begin\n",
    "        I_center2Fr_ENG_mount=2\n",
    "        I_center2Rr_ENG_mount=3\n",
    "        I_center2Fr_Chair=4\n",
    "        I_center2Rr_Chair=5\n",
    "        I_center2Rr_sus=6\n",
    "        I_center2Fr_sus=7\n",
    "        i_center_gravity=8\n",
    "    end\n",
    "    @xmlmodel(\"METI_Vertical_Vibration.drawio\", \"pitch_rate_vl\") \n",
    "end"
   ]
  },
  {
   "cell_type": "code",
   "execution_count": 5,
   "metadata": {},
   "outputs": [
    {
     "ename": "UndefVarError",
     "evalue": "UndefVarError: `l_center2Fr_ENG_mount` not defined",
     "output_type": "error",
     "traceback": [
      "UndefVarError: `l_center2Fr_ENG_mount` not defined\n",
      "\n",
      "Stacktrace:\n",
      " [1] macro expansion\n",
      "   @ ~/.julia/packages/JuliaMBD/3ZWy5/src/_macro.jl:95 [inlined]\n",
      " [2] macro expansion\n",
      "   @ ./none:8 [inlined]\n",
      " [3] pitch_rate_vl(; I_center2Fr_ENG_mount::Int64, I_center2Rr_ENG_mount::Int64, I_center2Fr_Chair::Int64, I_center2Rr_Chair::Int64, I_center2Rr_sus::Int64, I_center2Fr_sus::Int64, i_center_gravity::Int64)\n",
      "   @ Main /workspaces/JuliaMBD-sample/VL_PNT.ipynb:159\n",
      " [4] pitch_rate_vl\n",
      "   @ ./none:0 [inlined]\n",
      " [5] macro expansion\n",
      "   @ ~/.julia/packages/JuliaMBD/3ZWy5/src/_macro.jl:95 [inlined]\n",
      " [6] TestPitch_rate_vl()\n",
      "   @ Main /workspaces/JuliaMBD-sample/VL_PNT.ipynb:5\n",
      " [7] top-level scope\n",
      "   @ ~/.julia/packages/JuliaMBD/3ZWy5/src/_ode.jl:9"
     ]
    }
   ],
   "source": [
    "@model TestPitch_rate_vl begin\n",
    "\n",
    "\n",
    "    @block begin\n",
    "        p = pitch_rate_vl()\n",
    "        ramp1 = Ramp(starttime=10, slope=5)\n",
    "        ramp2 = Ramp(starttime=10, slope=15)\n",
    "        ramp1 = Ramp(starttime=10, slope=25)\n",
    "        ramp2 = Ramp(starttime=10, slope=35)\n",
    "        ramp1 = Ramp(starttime=10, slope=45)\n",
    "        ramp2 = Ramp(starttime=10, slope=55)\n",
    "    end\n",
    "    @connect begin\n",
    "        ramp1.out => p.in1 \n",
    "        ramp2.out => p.in2\n",
    "        ramp3.out => p.in3\n",
    "        ramp4.out => p.in4 \n",
    "        ramp5.out => p.in5\n",
    "        ramp6.out => p.in6\n",
    "    end\n",
    "    @scope begin\n",
    "        p.in1 => in1\n",
    "        p.in2 => in2\n",
    "        p.in3 => in3\n",
    "        p.in4 => in4\n",
    "        p.in5 => in5\n",
    "        p.in6 => in6\n",
    "        p.out1 => out1\n",
    "    end\n",
    "end\n",
    "m = @compile TestPitch_rate_vl()\n",
    "res = simulate(m, tspan=[0, 100])\n",
    "plot(res)"
   ]
  },
  {
   "cell_type": "code",
   "execution_count": null,
   "metadata": {},
   "outputs": [],
   "source": []
  },
  {
   "cell_type": "code",
   "execution_count": null,
   "metadata": {},
   "outputs": [],
   "source": [
    "@model v_z_carbody_vl begin\n",
    "    @parameter begin\n",
    "        g=9.8\n",
    "        M_car_body=2\n",
    "    end\n",
    "    @xmlmodel(\"METI_Vertical_Vibration.drawio\", \"v_z_carbody_vl\") \n",
    "end"
   ]
  },
  {
   "cell_type": "code",
   "execution_count": null,
   "metadata": {},
   "outputs": [],
   "source": [
    "@model TestV_z_carbody_vl begin\n",
    "\n",
    "\n",
    "    @block begin\n",
    "        p = v_z_carbody()\n",
    "        ramp1 = Ramp(starttime=10, slope=5)\n",
    "        ramp2 = Ramp(starttime=10, slope=15)\n",
    "        ramp3 = Ramp(starttime=10, slope=25)\n",
    "        ramp4 = Ramp(starttime=10, slope=35)\n",
    "        ramp5 = Ramp(starttime=10, slope=45)\n",
    "        ramp6 = Ramp(starttime=10, slope=55)\n",
    "    end\n",
    "    @connect begin\n",
    "        ramp1.out => p.in1 \n",
    "        ramp2.out => p.in2\n",
    "        ramp3.out => p.in3\n",
    "        ramp4.out => p.in4 \n",
    "        ramp5.out => p.in5\n",
    "        ramp6.out => p.in6\n",
    "    end\n",
    "    @scope begin\n",
    "        p.in1 => in1\n",
    "        p.in2 => in2\n",
    "        p.in3 => in3\n",
    "        p.in4 => in4\n",
    "        p.in5 => in5\n",
    "        p.in6 => in6\n",
    "        p.out1 => out1\n",
    "    end\n",
    "end\n",
    "m = @compile TestV_z_carbody_vl()\n",
    "res = simulate(m, tspan=[0, 100])\n",
    "plot(res)"
   ]
  },
  {
   "cell_type": "code",
   "execution_count": null,
   "metadata": {},
   "outputs": [],
   "source": []
  },
  {
   "cell_type": "code",
   "execution_count": null,
   "metadata": {},
   "outputs": [],
   "source": [
    "@model z_velocity_vl begin\n",
    "    @parameter begin\n",
    "        I_center2Fr_ENG_mount=2\n",
    "        I_center2Rr_ENG_mount=3\n",
    "        I_center2Fr_Chair=4\n",
    "        I_center2Rr_Chair=5\n",
    "        I_center2Rr_sus=6\n",
    "        I_center2Fr_sus=7\n",
    "    end\n",
    "    @xmlmodel(\"METI_Vertical_Vibration.drawio\", \"z_velocity_vl\") \n",
    "end"
   ]
  },
  {
   "cell_type": "code",
   "execution_count": null,
   "metadata": {},
   "outputs": [],
   "source": [
    "@model TestZ_velocity_vl begin\n",
    "\n",
    "\n",
    "    @block begin\n",
    "        p = z_velocity_vl()\n",
    "        ramp1 = Ramp(starttime=10, slope=5)\n",
    "        ramp2 = Ramp(starttime=10, slope=15)\n",
    "        \n",
    "    end\n",
    "    @connect begin\n",
    "        ramp1.out => p.in1 \n",
    "        ramp2.out => p.in2\n",
    "        \n",
    "    end\n",
    "    @scope begin\n",
    "        p.in1 => in1\n",
    "        p.in2 => in2\n",
    "        \n",
    "        p.out1 => out1\n",
    "        p.out2 => out2\n",
    "        p.out3 => out3\n",
    "        p.out4 => out4\n",
    "        p.out5 => out5\n",
    "        p.out6 => out6\n",
    "    end\n",
    "end\n",
    "m = @compile TestZ_velocity_vl()\n",
    "res = simulate(m, tspan=[0, 100])\n",
    "plot(res)"
   ]
  },
  {
   "cell_type": "code",
   "execution_count": null,
   "metadata": {},
   "outputs": [],
   "source": []
  },
  {
   "cell_type": "code",
   "execution_count": null,
   "metadata": {},
   "outputs": [],
   "source": []
  },
  {
   "cell_type": "code",
   "execution_count": null,
   "metadata": {},
   "outputs": [],
   "source": []
  },
  {
   "cell_type": "code",
   "execution_count": null,
   "metadata": {},
   "outputs": [],
   "source": []
  },
  {
   "cell_type": "code",
   "execution_count": null,
   "metadata": {},
   "outputs": [],
   "source": []
  }
 ],
 "metadata": {
  "kernelspec": {
   "display_name": "Julia 1.9.3",
   "language": "julia",
   "name": "julia-1.9"
  },
  "language_info": {
   "file_extension": ".jl",
   "mimetype": "application/julia",
   "name": "julia",
   "version": "1.9.3"
  }
 },
 "nbformat": 4,
 "nbformat_minor": 2
}
