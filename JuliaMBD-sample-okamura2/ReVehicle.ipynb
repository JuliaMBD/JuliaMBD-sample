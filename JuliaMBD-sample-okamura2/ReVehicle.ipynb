{
 "cells": [
  {
   "cell_type": "code",
   "execution_count": 2,
   "metadata": {},
   "outputs": [],
   "source": [
    "using Plots\n",
    "using DifferentialEquations\n",
    "using JuliaMBD\n",
    "using JuliaMBD.Diagram\n",
    "using LookupTable"
   ]
  },
  {
   "cell_type": "code",
   "execution_count": 1,
   "metadata": {},
   "outputs": [
    {
     "ename": "SystemError",
     "evalue": "SystemError: opening file \"/workspaces/JuliaMBD-sample/JuliaMBD-sample-okamura2/ReMETI_Vertical_Vibration.jl\": No such file or directory",
     "output_type": "error",
     "traceback": [
      "SystemError: opening file \"/workspaces/JuliaMBD-sample/JuliaMBD-sample-okamura2/ReMETI_Vertical_Vibration.jl\": No such file or directory\n",
      "\n",
      "Stacktrace:\n",
      "  [1] systemerror(p::String, errno::Int32; extrainfo::Nothing)\n",
      "    @ Base ./error.jl:176\n",
      "  [2] #systemerror#82\n",
      "    @ ./error.jl:175 [inlined]\n",
      "  [3] systemerror\n",
      "    @ ./error.jl:175 [inlined]\n",
      "  [4] open(fname::String; lock::Bool, read::Nothing, write::Nothing, create::Nothing, truncate::Nothing, append::Nothing)\n",
      "    @ Base ./iostream.jl:293\n",
      "  [5] open\n",
      "    @ ./iostream.jl:275 [inlined]\n",
      "  [6] open(f::Base.var\"#418#419\"{String}, args::String; kwargs::Base.Pairs{Symbol, Union{}, Tuple{}, NamedTuple{(), Tuple{}}})\n",
      "    @ Base ./io.jl:393\n",
      "  [7] open\n",
      "    @ ./io.jl:392 [inlined]\n",
      "  [8] read\n",
      "    @ ./io.jl:473 [inlined]\n",
      "  [9] _include(mapexpr::Function, mod::Module, _path::String)\n",
      "    @ Base ./loading.jl:1959\n",
      " [10] include(fname::String)\n",
      "    @ Base.MainInclude ./client.jl:478\n",
      " [11] top-level scope\n",
      "    @ /workspaces/JuliaMBD-sample/JuliaMBD-sample-okamura2/ReVehicle.ipynb:1"
     ]
    }
   ],
   "source": [
    "include(\"ReMETI_Vertical_Vibration.jl\")"
   ]
  },
  {
   "cell_type": "code",
   "execution_count": null,
   "metadata": {},
   "outputs": [],
   "source": [
    "include(\"unittests.jl\")"
   ]
  },
  {
   "cell_type": "code",
   "execution_count": null,
   "metadata": {},
   "outputs": [],
   "source": [
    "@model sim begin\n",
    "    @block begin\n",
    "        b = Vehicle()\n",
    "        m1 = From(tag=:v_VL_mps)\n",
    "        m2 = From(tag=:omg_VL_pitch_rate_radps)\n",
    "        m3 = From(tag=:v_MUS_R2SUS_R_mps)\n",
    "        m4 = From(tag=:L_SUS_R_stroke_m)\n",
    "        m5 = From(tag=:v_MUS_F2SUS_F_mps)\n",
    "        m6 = From(tag=:L_SUS_F_stroke_m)\n",
    "        m7 = From(tag=:a_HM_F_neck_rad)\n",
    "        m8 = From(tag=:a_HM_HD_R_neck_rad)\n",
    "    end\n",
    "    @scope begin\n",
    "        m1.out => m1\n",
    "        m2.out => m2\n",
    "        m5.out => m3\n",
    "        m8.out => m4\n",
    "    end\n",
    "end\n",
    "@time m = @compile_derivative sim()\n",
    "@time result = simulate(m, tspan=[0,10])\n",
    "@time plot(result, layout=(2,2))\n"
   ]
  }
 ],
 "metadata": {
  "kernelspec": {
   "display_name": "Julia 1.9.3",
   "language": "julia",
   "name": "julia-1.9"
  },
  "language_info": {
   "file_extension": ".jl",
   "mimetype": "application/julia",
   "name": "julia",
   "version": "1.9.3"
  }
 },
 "nbformat": 4,
 "nbformat_minor": 2
}
