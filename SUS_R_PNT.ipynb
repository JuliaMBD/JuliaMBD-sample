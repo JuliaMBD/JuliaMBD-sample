{
 "cells": [
  {
   "cell_type": "code",
   "execution_count": null,
   "metadata": {},
   "outputs": [],
   "source": [
    "#no"
   ]
  },
  {
   "cell_type": "code",
   "execution_count": 21,
   "metadata": {},
   "outputs": [],
   "source": [
    "using DifferentialEquations\n",
    "using Plots\n",
    "using CSV\n",
    "using DataFrames\n",
    "using LookupTable\n",
    "using .JuliaMBD\n",
    "using .JuliaMBD.Diagram"
   ]
  },
  {
   "cell_type": "code",
   "execution_count": 22,
   "metadata": {},
   "outputs": [],
   "source": [
    "###oneD"
   ]
  },
  {
   "cell_type": "code",
   "execution_count": 29,
   "metadata": {},
   "outputs": [
    {
     "name": "stderr",
     "output_type": "stream",
     "text": [
      "┌ Warning: The port Dict{Any, Any}(\"label\" => \"<p style=\\\"line-height: 100%;\\\"><br></p>\", \"name\" => \"in3\", \"id\" => \"eelRdIJvC0ySnhr88J11-29\", \"parent\" => \"eelRdIJvC0ySnhr88J11-25\", \"type\" => \"inport\") has not been used.\n",
      "└ @ JuliaMBD.Diagram /root/.julia/packages/JuliaMBD/JTVej/src/diagrams/_xml2model.jl:76\n",
      "┌ Warning: The port Dict{Any, Any}(\"label\" => \"<p style=\\\"line-height: 100%;\\\"><br></p>\", \"name\" => \"in4\", \"id\" => \"eelRdIJvC0ySnhr88J11-30\", \"parent\" => \"eelRdIJvC0ySnhr88J11-25\", \"type\" => \"inport\") has not been used.\n",
      "└ @ JuliaMBD.Diagram /root/.julia/packages/JuliaMBD/JTVej/src/diagrams/_xml2model.jl:76\n"
     ]
    },
    {
     "data": {
      "text/plain": [
       "front_damper (generic function with 1 method)"
      ]
     },
     "metadata": {},
     "output_type": "display_data"
    }
   ],
   "source": [
    "@model rear_damper begin\n",
    "    df = CSV.read(\"damper_rate.csv\", DataFrame)\n",
    "    @parameter begin\n",
    "        d_Rr_sus_fric_gain=10000\n",
    "        d_Rr_sus_fric=30\n",
    "    end\n",
    "    @xmlmodel(\"METI_Vertical_Vibration.drawio\", \"rear_damper\")\n",
    "end"
   ]
  },
  {
   "cell_type": "code",
   "execution_count": 30,
   "metadata": {},
   "outputs": [
    {
     "ename": "KeyError",
     "evalue": "KeyError: key :in not found",
     "output_type": "error",
     "traceback": [
      "KeyError: key :in not found\n",
      "\n",
      "Stacktrace:\n",
      " [1] getindex(h::Dict{Symbol, Any}, key::Symbol)\n",
      "   @ Base ./dict.jl:484\n",
      " [2] getport\n",
      "   @ ~/.julia/packages/JuliaMBD/JTVej/src/_simpleblock.jl:60 [inlined]\n",
      " [3] macro expansion\n",
      "   @ ./none:8 [inlined]\n",
      " [4] front_damper(; d_Fr_sus_fric_gain::Int64, d_Fr_sus_fric::Int64)\n",
      "   @ Main /workspaces/JuliaMBD-sample/SUS_F_PNT.ipynb:160\n",
      " [5] front_damper\n",
      "   @ ./none:0 [inlined]\n",
      " [6] macro expansion\n",
      "   @ ~/.julia/packages/JuliaMBD/JTVej/src/_macro.jl:95 [inlined]\n",
      " [7] TestFront_damper()\n",
      "   @ Main /workspaces/JuliaMBD-sample/SUS_F_PNT.ipynb:3\n",
      " [8] top-level scope\n",
      "   @ ~/.julia/packages/JuliaMBD/JTVej/src/_ode.jl:9"
     ]
    }
   ],
   "source": [
    "@model TestRear_damper begin\n",
    "    @block begin\n",
    "        m = rear_damper()\n",
    "        s1 = Step(steptime=5, finalvalue=100)\n",
    "    end\n",
    "    @connect begin\n",
    "        s1.out => m.v_SUS_R_damper_mps\n",
    "    end\n",
    "    @scope begin\n",
    "        m.v_SUS_R_damper_mps => in\n",
    "        m.F_SUS_R_damper_N => out\n",
    "    end\n",
    "end\n",
    "\n",
    "m = @compile TestRear_damper() \n",
    "res = simulate(m, tspan=[0, 10])\n",
    "plot(res)"
   ]
  },
  {
   "cell_type": "code",
   "execution_count": null,
   "metadata": {},
   "outputs": [],
   "source": []
  },
  {
   "cell_type": "code",
   "execution_count": null,
   "metadata": {},
   "outputs": [],
   "source": [
    "@parameter \n",
    "    L_ratio_Rr_sus = 1.2048\n",
    "    z_k_Rr_sus_ini = 0.076651\n",
    "    k_Rr_sus = 30690\n",
    "end"
   ]
  },
  {
   "cell_type": "code",
   "execution_count": null,
   "metadata": {},
   "outputs": [],
   "source": []
  },
  {
   "cell_type": "code",
   "execution_count": null,
   "metadata": {},
   "outputs": [],
   "source": []
  },
  {
   "cell_type": "code",
   "execution_count": null,
   "metadata": {},
   "outputs": [],
   "source": []
  },
  {
   "cell_type": "code",
   "execution_count": null,
   "metadata": {},
   "outputs": [],
   "source": []
  },
  {
   "cell_type": "code",
   "execution_count": null,
   "metadata": {},
   "outputs": [],
   "source": []
  },
  {
   "cell_type": "code",
   "execution_count": null,
   "metadata": {},
   "outputs": [],
   "source": []
  },
  {
   "cell_type": "code",
   "execution_count": null,
   "metadata": {},
   "outputs": [],
   "source": []
  },
  {
   "cell_type": "code",
   "execution_count": null,
   "metadata": {},
   "outputs": [],
   "source": []
  }
 ],
 "metadata": {
  "kernelspec": {
   "display_name": "Julia 1.9.3",
   "language": "julia",
   "name": "julia-1.9"
  },
  "language_info": {
   "file_extension": ".jl",
   "mimetype": "application/julia",
   "name": "julia",
   "version": "1.9.3"
  }
 },
 "nbformat": 4,
 "nbformat_minor": 2
}
