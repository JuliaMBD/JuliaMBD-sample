{
 "cells": [
  {
   "cell_type": "code",
   "execution_count": 1,
   "metadata": {},
   "outputs": [],
   "source": [
    "using Plots\n",
    "using DifferentialEquations\n",
    "using JuliaMBD\n",
    "using JuliaMBD.Diagram\n",
    "\n",
    "using DifferentialEquations\n",
    "using Plots\n",
    "using CSV\n",
    "using DataFrames\n",
    "using LookupTable\n",
    "using .JuliaMBD\n",
    "using .JuliaMBD.Diagram"
   ]
  },
  {
   "cell_type": "code",
   "execution_count": null,
   "metadata": {},
   "outputs": [],
   "source": []
  },
  {
   "cell_type": "code",
   "execution_count": null,
   "metadata": {},
   "outputs": [],
   "source": []
  },
  {
   "cell_type": "code",
   "execution_count": 2,
   "metadata": {},
   "outputs": [
    {
     "data": {
      "text/plain": [
       "ENG_MNT_F_PNT (generic function with 1 method)"
      ]
     },
     "metadata": {},
     "output_type": "display_data"
    }
   ],
   "source": [
    "@model ENG_MNT_F_PNT begin\n",
    "    @parameter begin\n",
    "        d_Fr_ENG_mount = 1825.3\n",
    "        k_Fr_ENG_mount = 1.3598e+05\n",
    "        z_k_Fr_ENG_mount_ini = 0.00036769\n",
    "    end\n",
    "    @xmlmodel(\"METI_Vertical_Vibration.drawio\", \"ENG_MNT_F_PNT\")\n",
    "end"
   ]
  },
  {
   "cell_type": "code",
   "execution_count": 3,
   "metadata": {},
   "outputs": [
    {
     "data": {
      "text/plain": [
       "ENG_MNT_R_PNT (generic function with 1 method)"
      ]
     },
     "metadata": {},
     "output_type": "display_data"
    }
   ],
   "source": [
    "@model ENG_MNT_R_PNT begin\n",
    "    @parameter begin\n",
    "        d_Rr_ENG_mount = 5215\n",
    "        k_Rr_ENG_mount = 6.7992e+5\n",
    "        z_k_Rr_ENG_mount_ini = 0\n",
    "    end\n",
    "    @xmlmodel(\"METI_Vertical_Vibration.drawio\", \"ENG_MNT_R_PNT\")\n",
    "end"
   ]
  },
  {
   "cell_type": "code",
   "execution_count": 4,
   "metadata": {},
   "outputs": [
    {
     "data": {
      "text/plain": [
       "pitch_rate (generic function with 1 method)"
      ]
     },
     "metadata": {},
     "output_type": "display_data"
    }
   ],
   "source": [
    "@model pitch_rate begin\n",
    "    @parameter begin\n",
    "        I_ENG2Fr_mount = 0\n",
    "        I_ENG2Rr_mount = -0.4\n",
    "        i_center_ENG = 100\n",
    "    end\n",
    "    @xmlmodel(\"METI_Vertical_Vibration.drawio\", \"pitch_rate\") #シート名も指定して\n",
    "end"
   ]
  },
  {
   "cell_type": "code",
   "execution_count": 5,
   "metadata": {},
   "outputs": [
    {
     "data": {
      "text/plain": [
       "v_z_carbody (generic function with 1 method)"
      ]
     },
     "metadata": {},
     "output_type": "display_data"
    }
   ],
   "source": [
    "@model v_z_carbody begin\n",
    "    @parameter begin\n",
    "        M_ENG = 50\n",
    "        g = 9.8\n",
    "    end\n",
    "    @xmlmodel(\"METI_Vertical_Vibration.drawio\", \"v_z_carbody\")\n",
    "end"
   ]
  },
  {
   "cell_type": "code",
   "execution_count": 6,
   "metadata": {},
   "outputs": [
    {
     "data": {
      "text/plain": [
       "z_velocity (generic function with 1 method)"
      ]
     },
     "metadata": {},
     "output_type": "display_data"
    }
   ],
   "source": [
    "@model z_velocity begin\n",
    "    @parameter begin\n",
    "        I_ENG2Fr_ENG_mount = 0\n",
    "        I_ENG2Rr_ENG_mount = -0.4\n",
    "    end\n",
    "    @xmlmodel(\"METI_Vertical_Vibration.drawio\", \"z_velocity\")\n",
    "end"
   ]
  },
  {
   "cell_type": "code",
   "execution_count": 7,
   "metadata": {},
   "outputs": [
    {
     "data": {
      "text/plain": [
       "ENG_PNT (generic function with 1 method)"
      ]
     },
     "metadata": {},
     "output_type": "display_data"
    }
   ],
   "source": [
    "@model ENG_PNT begin\n",
    "    @xmlmodel(\"METI_Vertical_Vibration.drawio\", \"ENG_PNT\")\n",
    "end"
   ]
  },
  {
   "cell_type": "code",
   "execution_count": 8,
   "metadata": {},
   "outputs": [
    {
     "data": {
      "text/plain": [
       "MUS_F_PNT (generic function with 1 method)"
      ]
     },
     "metadata": {},
     "output_type": "display_data"
    }
   ],
   "source": [
    "@model MUS_F_PNT begin\n",
    "    @parameter begin\n",
    "        g = 9.8\n",
    "        M_Fr_wheel = 40\n",
    "    end\n",
    "    @xmlmodel(\"METI_Vertical_Vibration.drawio\", \"MUS_F_PNT\") \n",
    "end"
   ]
  },
  {
   "cell_type": "code",
   "execution_count": 9,
   "metadata": {},
   "outputs": [
    {
     "data": {
      "text/plain": [
       "MUS_R_PNT (generic function with 1 method)"
      ]
     },
     "metadata": {},
     "output_type": "display_data"
    }
   ],
   "source": [
    "@model MUS_R_PNT begin\n",
    "    @parameter begin\n",
    "        g = 9.8\n",
    "        M_Rr_wheel = 40\n",
    "    end\n",
    "    @xmlmodel(\"METI_Vertical_Vibration.drawio\", \"MUS_R_PNT\") \n",
    "end"
   ]
  },
  {
   "cell_type": "code",
   "execution_count": 10,
   "metadata": {},
   "outputs": [
    {
     "data": {
      "text/plain": [
       "HM_BD_F_PNT (generic function with 1 method)"
      ]
     },
     "metadata": {},
     "output_type": "display_data"
    }
   ],
   "source": [
    "@model HM_BD_F_PNT begin\n",
    "    @parameter begin\n",
    "        M_Fr_body = 44.01\n",
    "        g = 9.8\n",
    "    end\n",
    "    @xmlmodel(\"METI_Vertical_Vibration.drawio\", \"HM_BD_F_PNT\")\n",
    "end"
   ]
  },
  {
   "cell_type": "code",
   "execution_count": 11,
   "metadata": {},
   "outputs": [
    {
     "data": {
      "text/plain": [
       "HM_HD_F_PNT (generic function with 1 method)"
      ]
     },
     "metadata": {},
     "output_type": "display_data"
    }
   ],
   "source": [
    "@model HM_HD_F_PNT begin\n",
    "    @parameter begin\n",
    "        M_Fr_head = 27.6\n",
    "        r_Fr_head = 0.21857\n",
    "        theta_Fr_head = 1.3251\n",
    "        k_Fr_head = 1210\n",
    "        d_Fr_head = 8.17\n",
    "        I_Fr_head = 1.8\n",
    "        x_k_Fr_head_ini = -0.011885\n",
    "        g = 9.8\n",
    "    end\n",
    "    @xmlmodel(\"METI_Vertical_Vibration.drawio\", \"2HM_HD_F_PNT\")\n",
    "end"
   ]
  },
  {
   "cell_type": "code",
   "execution_count": 12,
   "metadata": {},
   "outputs": [
    {
     "data": {
      "text/plain": [
       "HM_VS_F_PNT (generic function with 1 method)"
      ]
     },
     "metadata": {},
     "output_type": "display_data"
    }
   ],
   "source": [
    "@model HM_VS_F_PNT begin\n",
    "    @parameter begin\n",
    "        kz_Fr_body_organs = 82200\n",
    "        dz_Fr_body_organs = 195\n",
    "        M_Fr_body_organs = 12.8\n",
    "        g = 9.8\n",
    "        z_kz_Fr_body_organs_ini = 0.001526\n",
    "    end\n",
    "    @xmlmodel(\"METI_Vertical_Vibration.drawio\", \"HM_VS_F_PNT\")\n",
    "end"
   ]
  },
  {
   "cell_type": "code",
   "execution_count": 13,
   "metadata": {},
   "outputs": [
    {
     "data": {
      "text/plain": [
       "HM_F_PNT (generic function with 1 method)"
      ]
     },
     "metadata": {},
     "output_type": "display_data"
    }
   ],
   "source": [
    "@model HM_F_PNT begin\n",
    "    @xmlmodel(\"METI_Vertical_Vibration.drawio\", \"HM_F_PNT\")\n",
    "end"
   ]
  },
  {
   "cell_type": "code",
   "execution_count": 14,
   "metadata": {},
   "outputs": [
    {
     "data": {
      "text/plain": [
       "HM_BD_R_PNT (generic function with 1 method)"
      ]
     },
     "metadata": {},
     "output_type": "display_data"
    }
   ],
   "source": [
    "@model HM_BD_R_PNT begin\n",
    "    @parameter begin\n",
    "        M_Rr_body = 44.01\n",
    "        g = 9.8\n",
    "    end\n",
    "    @xmlmodel(\"METI_Vertical_Vibration.drawio\", \"HM_BD_R_PNT\")\n",
    "end"
   ]
  },
  {
   "cell_type": "code",
   "execution_count": 15,
   "metadata": {},
   "outputs": [
    {
     "data": {
      "text/plain": [
       "HM_HD_R_PNT (generic function with 1 method)"
      ]
     },
     "metadata": {},
     "output_type": "display_data"
    }
   ],
   "source": [
    "@model HM_HD_R_PNT begin\n",
    "    @parameter begin\n",
    "        M_Rr_head = 27.6\n",
    "        r_Rr_head = 0.21857\n",
    "        theta_Rr_head = 1.3251\n",
    "        k_Rr_head = 1210\n",
    "        d_Rr_head = 8.17\n",
    "        I_Rr_head = 1.8\n",
    "        x_k_Rr_head_ini = -0.011885\n",
    "        g = 9.8\n",
    "    end\n",
    "    @xmlmodel(\"METI_Vertical_Vibration.drawio\", \"2HM_HD_R_PNT\")\n",
    "end"
   ]
  },
  {
   "cell_type": "code",
   "execution_count": 16,
   "metadata": {},
   "outputs": [
    {
     "data": {
      "text/plain": [
       "HM_VS_R_PNT (generic function with 1 method)"
      ]
     },
     "metadata": {},
     "output_type": "display_data"
    }
   ],
   "source": [
    "@model HM_VS_R_PNT begin\n",
    "    @parameter begin\n",
    "        kz_Rr_body_organs = 82200\n",
    "        dz_Rr_body_organs = 195\n",
    "        M_Rr_body_organs = 12.8\n",
    "        g = 9.8\n",
    "        z_kz_Rr_body_organs_ini = 0.001526\n",
    "    end\n",
    "    @xmlmodel(\"METI_Vertical_Vibration.drawio\", \"HM_VS_R_PNT\")\n",
    "end"
   ]
  },
  {
   "cell_type": "code",
   "execution_count": 17,
   "metadata": {},
   "outputs": [
    {
     "data": {
      "text/plain": [
       "HM_R_PNT (generic function with 1 method)"
      ]
     },
     "metadata": {},
     "output_type": "display_data"
    }
   ],
   "source": [
    "@model HM_R_PNT begin\n",
    "    @xmlmodel(\"METI_Vertical_Vibration.drawio\", \"HM_R_PNT\")\n",
    "end"
   ]
  },
  {
   "cell_type": "code",
   "execution_count": 18,
   "metadata": {},
   "outputs": [
    {
     "data": {
      "text/plain": [
       "MUS_F_PNT (generic function with 1 method)"
      ]
     },
     "metadata": {},
     "output_type": "display_data"
    }
   ],
   "source": [
    "@model MUS_F_PNT begin\n",
    "    @parameter begin\n",
    "        g = 9.8\n",
    "        M_Fr_wheel = 40\n",
    "    end\n",
    "    @xmlmodel(\"METI_Vertical_Vibration.drawio\", \"MUS_F_PNT\") \n",
    "end"
   ]
  },
  {
   "cell_type": "code",
   "execution_count": 19,
   "metadata": {},
   "outputs": [
    {
     "data": {
      "text/plain": [
       "MUS_R_PNT (generic function with 1 method)"
      ]
     },
     "metadata": {},
     "output_type": "display_data"
    }
   ],
   "source": [
    "@model MUS_R_PNT begin\n",
    "    @parameter begin\n",
    "        g = 9.8\n",
    "        M_Rr_wheel = 40\n",
    "    end\n",
    "    @xmlmodel(\"METI_Vertical_Vibration.drawio\", \"MUS_R_PNT\") \n",
    "end"
   ]
  },
  {
   "cell_type": "code",
   "execution_count": 34,
   "metadata": {},
   "outputs": [
    {
     "data": {
      "text/plain": [
       "RD_PNT (generic function with 1 method)"
      ]
     },
     "metadata": {},
     "output_type": "display_data"
    }
   ],
   "source": [
    "@model RD_PNT begin\n",
    "    df = CSV.read(\"road_surface.csv\", DataFrame)\n",
    "    @parameter begin\n",
    "        kmph2mps = 0.27778\n",
    "        I_wheelbase=2.635\n",
    "        vel_car_kmph=60\n",
    "        end_of_road_surface=43  ###\n",
    "    end\n",
    "    @xmlmodel(\"METI_Vertical_Vibration.drawio\", \"2RD_PNT\")\n",
    "end"
   ]
  },
  {
   "cell_type": "code",
   "execution_count": 36,
   "metadata": {},
   "outputs": [
    {
     "data": {
      "text/plain": [
       "ST_F_PNT (generic function with 1 method)"
      ]
     },
     "metadata": {},
     "output_type": "display_data"
    }
   ],
   "source": [
    "@model ST_F_PNT begin\n",
    "    @parameter begin\n",
    "        d_Fr_chair=6634\n",
    "        k_Fr_chair=1000000\n",
    "        z_k_Fr_chair_ini=0.00082722\n",
    "    end\n",
    "    @xmlmodel(\"METI_Vertical_Vibration.drawio\", \"ST_F_PNT\") \n",
    "end"
   ]
  },
  {
   "cell_type": "code",
   "execution_count": 37,
   "metadata": {},
   "outputs": [
    {
     "data": {
      "text/plain": [
       "ST_R_PNT (generic function with 1 method)"
      ]
     },
     "metadata": {},
     "output_type": "display_data"
    }
   ],
   "source": [
    "@model ST_R_PNT begin\n",
    "    @parameter begin\n",
    "        d_Rr_chair = 9381.9\n",
    "        k_Rr_chair = 2000000\n",
    "        z_k_Rr_chair_ini = 0.00041361\n",
    "    end\n",
    "    @xmlmodel(\"METI_Vertical_Vibration.drawio\", \"ST_R_PNT\") \n",
    "end"
   ]
  },
  {
   "cell_type": "code",
   "execution_count": 23,
   "metadata": {},
   "outputs": [
    {
     "data": {
      "text/plain": [
       "front_damper (generic function with 1 method)"
      ]
     },
     "metadata": {},
     "output_type": "display_data"
    }
   ],
   "source": [
    "@model front_damper begin\n",
    "    df = CSV.read(\"damper_rate.csv\", DataFrame)\n",
    "    @parameter begin\n",
    "        d_Fr_sus_fric_gain=10000\n",
    "        d_Fr_sus_fric=40\n",
    "    end\n",
    "    @xmlmodel(\"METI_Vertical_Vibration.drawio\", \"2front_damper\")\n",
    "end"
   ]
  },
  {
   "cell_type": "code",
   "execution_count": 24,
   "metadata": {},
   "outputs": [
    {
     "data": {
      "text/plain": [
       "SUS_F_PNT (generic function with 1 method)"
      ]
     },
     "metadata": {},
     "output_type": "display_data"
    }
   ],
   "source": [
    "@model SUS_F_PNT begin\n",
    "    @parameter begin\n",
    "        L_ratio_Fr_sus = 1.2048\n",
    "        z_k_Fr_sus_ini = 0.10755\n",
    "        K_Fr_sus = 30690\n",
    "    end\n",
    "    @xmlmodel(\"METI_Vertical_Vibration.drawio\", \"SUS_F_PNT\")\n",
    "end"
   ]
  },
  {
   "cell_type": "code",
   "execution_count": 25,
   "metadata": {},
   "outputs": [
    {
     "data": {
      "text/plain": [
       "rear_damper (generic function with 1 method)"
      ]
     },
     "metadata": {},
     "output_type": "display_data"
    }
   ],
   "source": [
    "@model rear_damper begin\n",
    "    df = CSV.read(\"damper_rate.csv\", DataFrame)\n",
    "    @parameter begin\n",
    "        d_Rr_sus_fric_gain=10000\n",
    "        d_Rr_sus_fric=30\n",
    "    end\n",
    "    @xmlmodel(\"METI_Vertical_Vibration.drawio\", \"2rear_damper\")\n",
    "end"
   ]
  },
  {
   "cell_type": "code",
   "execution_count": 26,
   "metadata": {},
   "outputs": [
    {
     "data": {
      "text/plain": [
       "SUS_R_PNT (generic function with 1 method)"
      ]
     },
     "metadata": {},
     "output_type": "display_data"
    }
   ],
   "source": [
    "@model SUS_R_PNT begin\n",
    "    @parameter begin\n",
    "        L_ratio_Rr_sus = 1.2048\n",
    "        z_k_Rr_sus_ini = 0.076651\n",
    "        K_Rr_sus = 30690\n",
    "    end\n",
    "    @xmlmodel(\"METI_Vertical_Vibration.drawio\", \"SUS_R_PNT\")\n",
    "end"
   ]
  },
  {
   "cell_type": "code",
   "execution_count": 39,
   "metadata": {},
   "outputs": [
    {
     "data": {
      "text/plain": [
       "TR_F_PNT (generic function with 1 method)"
      ]
     },
     "metadata": {},
     "output_type": "display_data"
    }
   ],
   "source": [
    "@model TR_F_PNT begin\n",
    "    @parameter begin\n",
    "        d_Fr_wheel=3162.3\n",
    "        k_Fr_wheel=200000\n",
    "        z_k_Fr_wheel_ini=0.022334\n",
    "    end\n",
    "    @xmlmodel(\"METI_Vertical_Vibration.drawio\", \"TR_F_PNT\") \n",
    "end\n"
   ]
  },
  {
   "cell_type": "code",
   "execution_count": 40,
   "metadata": {},
   "outputs": [
    {
     "data": {
      "text/plain": [
       "TR_R_PNT (generic function with 1 method)"
      ]
     },
     "metadata": {},
     "output_type": "display_data"
    }
   ],
   "source": [
    "@model TR_R_PNT begin\n",
    "    @parameter begin\n",
    "        d_Rr_wheel=3162.3\n",
    "        k_Rr_wheel=200000\n",
    "        z_k_Rr_wheel_ini=0.016621\n",
    "    end\n",
    "    @xmlmodel(\"METI_Vertical_Vibration.drawio\", \"TR_R_PNT\") \n",
    "end"
   ]
  },
  {
   "cell_type": "code",
   "execution_count": 29,
   "metadata": {},
   "outputs": [
    {
     "data": {
      "text/plain": [
       "pitch_rate_vl (generic function with 1 method)"
      ]
     },
     "metadata": {},
     "output_type": "display_data"
    }
   ],
   "source": [
    "@model pitch_rate_vl begin\n",
    "    @parameter begin\n",
    "        I_center2Fr_ENG_mount = 1.1374\n",
    "        I_center2Rr_ENG_mount = 0.90993\n",
    "        I_center2Fr_Chair = 0.34122\n",
    "        I_center2Rr_Chair = -1.0237\n",
    "        I_center2Rr_sus = -1.4976\n",
    "        I_center2Fr_sus = 1.1374\n",
    "        i_center_gravity = 400\n",
    "    end\n",
    "    @xmlmodel(\"METI_Vertical_Vibration.drawio\", \"pitch_rate_vl\") \n",
    "end"
   ]
  },
  {
   "cell_type": "code",
   "execution_count": 30,
   "metadata": {},
   "outputs": [
    {
     "data": {
      "text/plain": [
       "v_z_carbody_vl (generic function with 1 method)"
      ]
     },
     "metadata": {},
     "output_type": "display_data"
    }
   ],
   "source": [
    "@model v_z_carbody_vl begin\n",
    "    @parameter begin\n",
    "        g=9.8\n",
    "        M_car_body=1171.2\n",
    "    end\n",
    "    @xmlmodel(\"METI_Vertical_Vibration.drawio\", \"v_z_carbody_vl\") \n",
    "end"
   ]
  },
  {
   "cell_type": "code",
   "execution_count": 31,
   "metadata": {},
   "outputs": [
    {
     "data": {
      "text/plain": [
       "z_velocity_vl (generic function with 1 method)"
      ]
     },
     "metadata": {},
     "output_type": "display_data"
    }
   ],
   "source": [
    "@model z_velocity_vl begin\n",
    "    @parameter begin\n",
    "        I_center2Fr_ENG_mount = 1.1374\n",
    "        I_center2Rr_ENG_mount = 0.90993\n",
    "        I_center2Fr_Chair = 0.34122\n",
    "        I_center2Rr_Chair = -1.0237\n",
    "        I_center2Rr_sus = -1.4976\n",
    "        I_center2Fr_sus = 1.1374\n",
    "    end\n",
    "    @xmlmodel(\"METI_Vertical_Vibration.drawio\", \"z_velocity_vl\") \n",
    "end"
   ]
  },
  {
   "cell_type": "code",
   "execution_count": 32,
   "metadata": {},
   "outputs": [
    {
     "data": {
      "text/plain": [
       "VL_PNT (generic function with 1 method)"
      ]
     },
     "metadata": {},
     "output_type": "display_data"
    }
   ],
   "source": [
    "@model VL_PNT begin\n",
    "    @xmlmodel(\"METI_Vertical_Vibration.drawio\", \"VL_PNT\")\n",
    "end"
   ]
  },
  {
   "cell_type": "code",
   "execution_count": 42,
   "metadata": {},
   "outputs": [
    {
     "data": {
      "text/plain": [
       "38414"
      ]
     },
     "metadata": {},
     "output_type": "display_data"
    }
   ],
   "source": [
    "@buildxml \"newVehi\" ENG_MNT_F_PNT ENG_MNT_R_PNT ENG_PNT HM_F_PNT HM_R_PNT MUS_F_PNT MUS_R_PNT RD_PNT ST_F_PNT ST_R_PNT SUS_F_PNT SUS_R_PNT TR_F_PNT TR_R_PNT VL_PNT"
   ]
  },
  {
   "cell_type": "code",
   "execution_count": null,
   "metadata": {},
   "outputs": [],
   "source": []
  }
 ],
 "metadata": {
  "kernelspec": {
   "display_name": "Julia 1.9.3",
   "language": "julia",
   "name": "julia-1.9"
  },
  "language_info": {
   "file_extension": ".jl",
   "mimetype": "application/julia",
   "name": "julia",
   "version": "1.9.3"
  }
 },
 "nbformat": 4,
 "nbformat_minor": 2
}
